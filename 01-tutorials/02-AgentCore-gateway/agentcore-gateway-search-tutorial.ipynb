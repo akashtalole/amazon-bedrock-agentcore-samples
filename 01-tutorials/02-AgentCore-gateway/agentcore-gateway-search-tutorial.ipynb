{
 "cells": [
  {
   "cell_type": "markdown",
   "id": "0f80631b",
   "metadata": {},
   "source": [
    "# Amazon Bedrock AgentCore Gateway - Semantic search tutorial"
   ]
  },
  {
   "cell_type": "markdown",
   "id": "5b6a992b",
   "metadata": {},
   "source": [
    "### Tutorial Details\n",
    "\n",
    "\n",
    "| Information         | Details                                                                          |\n",
    "|:--------------------|:---------------------------------------------------------------------------------|\n",
    "| Tutorial type       | Conversational                                                                   |\n",
    "| Agent type          | Single                                                                           |\n",
    "| Agentic Framework   | Strands Agents                                                                   |\n",
    "| LLM model           | Anthropic Claude Sonnet 4                                                        |\n",
    "| Tutorial components | Creating and using Lambda-backed AgentCore Gateway from Strands Agent            |\n",
    "| Tutorial vertical   | Cross-vertical                                                                   |\n",
    "| Example complexity  | Easy                                                                             |\n",
    "| SDK used            | Amazon BedrockAgentCore Python SDK and boto3  "
   ]
  },
  {
   "cell_type": "markdown",
   "id": "61187ab7",
   "metadata": {},
   "source": [
    "### Tutorial Architecture\n",
    "[tbd insert diagram showing Strands Agent calling AgentCore Gateway, with multiple Lambda targets with large numbers of tools, and using Gateway Search]\n",
    "\n",
    "### Tutorial Key Features\n",
    "\n",
    "* Creating Amazon Bedrock AgentCore Gateways with Lambda-backed targets\n",
    "* Using AgentCore Gateway semantic search \n",
    "* Using Strands Agents to show how search improves latency"
   ]
  },
  {
   "cell_type": "markdown",
   "id": "fa1feb54",
   "metadata": {},
   "source": [
    "## Prerequisites\n",
    "\n",
    "To execute this tutorial you will need:\n",
    "* Python 3.10+\n",
    "* AWS credentials\n",
    "* Amazon Bedrock AgentCore SDK\n",
    "* Strands Agents"
   ]
  },
  {
   "cell_type": "markdown",
   "id": "fb01ea0d",
   "metadata": {},
   "source": [
    "## AgentCore Gateway helps solve the challenge of MCP servers that have large numbers of tools\n",
    "In a typical enterprise setting, agent builders encounter MCP servers that have hundreds or even thousands\n",
    "of MCP tools. This volume of tools poses challenges for AI Agents, including poor tool selection accuracy, \n",
    "increased cost, and higher latency driven by higher token usage from excessive tool metadata.\n",
    "This can happen when connecting your agents to third party services (e.g., Zendesk, Salesforce,\n",
    "Slack, JIRA, ...), or to existing enterprise REST services. \n",
    "AgentCore Gateway provides a built in semantic search across tools, \n",
    "which improves agent latency, cost, and accuracy, while still giving those agents the tools they need. \n",
    "Depending on your use case, LLM model, and agent framework, you can see up to 3x better latency by keeping\n",
    "an agent focused on relevant tools versus providing the full set of hundreds of tools from a typical MCP Server.\n",
    "\n",
    "## What you will learn in this notebook\n",
    "In this notebook, we provide a tutorial for AgentCore Gateway search. By the end of this step by step tutorial, you\n",
    "will understand:\n",
    "\n",
    "- How to use AgentCore Gateway's built-in search tool to quickly find relevant tools \n",
    "- How to integrate tool search results into Strands Agents for improved latency and reduced cost\n",
    "\n",
    "## Overview of the notebook structure\n",
    "The notebook is structured with the following sections:\n",
    "\n",
    "1. Understanding fundamentals of AgentCore Gateway Search\n",
    "2. Preparing the notebook environment\n",
    "3. Setting up a Gateway that has hundreds of tools\n",
    "4. Searching for tools from a Gateway\n",
    "5. Using Strands Agents with an MCP server that has many tools\n",
    "6. Adding tool search results to a Strands Agent\n",
    "7. Showing 3x latency improvement by using tool search"
   ]
  },
  {
   "cell_type": "markdown",
   "id": "06b7852f",
   "metadata": {},
   "source": [
    "# Understanding fundamentals of AgentCore Gateway Search\n",
    "\n",
    "When you create an AgentCore Gateway, you have the option to indicate that you want Search enabled.\n",
    "By default, Gateways are created without Search turned on. For Gateways with search enabled, three things happen:\n",
    "\n",
    "1. **Vector store is created**. The Gateway service automatically creates a serverless and fully managed vector store for your new Gateway. This will enable a full semantic search across your Gateway tools. \n",
    "3. **Vector store is populated**. As you add Gateway Targets to your Gateway, the service will automatically use embeddings behind the scenes to populate the vector store based on all of the tools from the new Target. The tool metadata comes from the JSON defintions of your tools or the OpenAPI Schema specification for your REST services targets.\n",
    "2. **Search tool (MCP based) is provided**. In addition to all of your user defined tools (from Lambda targets or REST services), the Gateway gets one additional MCP tool that provides semantic search. It is named `x-amz-bedrock-agentcore-search`. The `x-amz-bedrock-agentcore-` prefix ensures there are no name clashes with your user defined tools. We may add more tools like that in the future as well. The search tool has a single argument called `query`. When the search tool is invoked, the Gateway service will do a semantic search using that query, matching it against all available tool metadata (names, descriptions, input schema), and returns the most relevant tools in descending order of relevance."
   ]
  },
  {
   "cell_type": "markdown",
   "id": "b39c756c",
   "metadata": {},
   "source": [
    "# Preparing the notebook environment"
   ]
  },
  {
   "cell_type": "code",
   "id": "2045271e",
   "metadata": {},
   "source": [
    "# !pip install -r requirements.txt"
   ],
   "outputs": [],
   "execution_count": null
  },
  {
   "cell_type": "code",
   "id": "00bd1cbc",
   "metadata": {},
   "source": [
    "## needed for paginated list_tools_sync\n",
    "# !pip install --upgrade strands-agents@git+https://github.com/strands-agents/sdk-python.git"
   ],
   "outputs": [],
   "execution_count": null
  },
  {
   "cell_type": "code",
   "id": "1221b5ea",
   "metadata": {},
   "source": [
    "# !pip install ~/Downloads/boto3-1.39.4-py3-none-any.whl"
   ],
   "outputs": [],
   "execution_count": null
  },
  {
   "cell_type": "code",
   "id": "26056c5f",
   "metadata": {},
   "source": [
    "# !pip install ~/Downloads/botocore-1.39.4-py3-none-any.whl"
   ],
   "outputs": [],
   "execution_count": null
  },
  {
   "cell_type": "code",
   "id": "0b2c9bc2",
   "metadata": {},
   "source": [
    "# !pip install -r requirements.txt "
   ],
   "outputs": [],
   "execution_count": null
  },
  {
   "cell_type": "markdown",
   "id": "4dec9b4b",
   "metadata": {},
   "source": [
    "Import all the required Python libraries, and load environment variables"
   ]
  },
  {
   "cell_type": "code",
   "id": "10100b26",
   "metadata": {},
   "source": [
    "from mcp.client.streamable_http import streamablehttp_client\n",
    "from mcp.types import Tool as MCPTool\n",
    "\n",
    "from strands import Agent\n",
    "from strands.models import BedrockModel\n",
    "from strands.handlers import null_callback_handler\n",
    "from strands.tools.mcp.mcp_client import MCPClient, MCPAgentTool\n",
    "\n",
    "import logging\n",
    "import time\n",
    "import json\n",
    "import os\n",
    "import boto3\n",
    "import requests\n",
    "\n",
    "from dotenv import load_dotenv\n",
    "load_dotenv()\n"
   ],
   "outputs": [],
   "execution_count": null
  },
  {
   "cell_type": "markdown",
   "id": "e76ded57",
   "metadata": {},
   "source": [
    "Set up a logger"
   ]
  },
  {
   "cell_type": "code",
   "id": "ea5ab3da",
   "metadata": {},
   "source": [
    "\n",
    "# Configure the root strands logger\n",
    "logging.getLogger(\"strands\").setLevel(logging.ERROR) #INFO) #DEBUG) #\n",
    "\n",
    "# Add a handler to see the logs\n",
    "logging.basicConfig(\n",
    "    format=\"%(levelname)s | %(name)s | %(message)s\", \n",
    "    handlers=[logging.StreamHandler()]\n",
    ")"
   ],
   "outputs": [],
   "execution_count": null
  },
  {
   "cell_type": "markdown",
   "id": "1dc97c60",
   "metadata": {},
   "source": [
    "Check our boto3 version"
   ]
  },
  {
   "cell_type": "code",
   "id": "9258624c",
   "metadata": {},
   "source": [
    "boto3.__version__"
   ],
   "outputs": [],
   "execution_count": null
  },
  {
   "cell_type": "markdown",
   "id": "51c8ef61",
   "metadata": {},
   "source": [
    "-- REMOVE -- get the endpoint url for internal testing env"
   ]
  },
  {
   "cell_type": "code",
   "id": "6ee4b8ea",
   "metadata": {},
   "source": [
    "endpoint_url=os.getenv(\"genesis_cp_base_url\")\n",
    "endpoint_url"
   ],
   "outputs": [],
   "execution_count": null
  },
  {
   "cell_type": "markdown",
   "id": "59719b74",
   "metadata": {},
   "source": [
    "Get our boto3 client for the AgentCore control plane API."
   ]
  },
  {
   "cell_type": "code",
   "id": "c2eafe7c",
   "metadata": {},
   "source": [
    "session = boto3.Session()\n",
    "agentcore_client = session.client(\n",
    "    \"bedrock-agentcore-control\",\n",
    "    region_name=\"us-east-1\", \n",
    "    endpoint_url=endpoint_url, ## this will be removed before we publish\n",
    "    verify=False\n",
    ")\n"
   ],
   "outputs": [],
   "execution_count": null
  },
  {
   "cell_type": "markdown",
   "id": "ec05b4c0",
   "metadata": {},
   "source": [
    "--REMOVE-- this is a hack to work around a local env issue. "
   ]
  },
  {
   "cell_type": "code",
   "id": "a98463fb",
   "metadata": {},
   "source": [
    "## Workaround for SSL validation issue in my env.\n",
    "## Remove before publish\n",
    "import certifi\n",
    "os.environ['AWS_CA_BUNDLE'] = certifi.where()"
   ],
   "outputs": [],
   "execution_count": null
  },
  {
   "cell_type": "markdown",
   "id": "eb9fec29",
   "metadata": {},
   "source": [
    "# Setting up a Gateway that has hundreds of tools\n",
    "\n",
    "AgentCore Gateway provides a secure and scalable way to expose a curated set of existing APIs\n",
    "as MCP tools for your agents. In a production setting, your Gateway resources would be created\n",
    "using infrastructure as code with tools like CloudFormation, CDK, or Terraform. In this tutorial,\n",
    "we use the boto3 control plane APIs directly so that you can understand the resources and Gateway APIs.\n",
    "This will help you more easily get started building and using your own Gateway's, and making more powerful\n",
    "and secure agents.\n",
    "\n",
    "At a high level, the steps for setting up your Gateway are:\n",
    "\n",
    "1. Define what identity providers and credential providers you are using for inbound (agents calling Gateways) and outbound (Gateways calling tools) security, and get [...] needed when creating [...].\n",
    "2. Create the Gateway using `create_gateway`.\n",
    "3. Add Gateway Targets using `create_gateway_target`, to expose MCP tools that will be implemented in Lambda or in existing REST services.\n",
    "\n",
    "In this tutorial, we will use Amazon Cognito as the identity provider (IdP) and will use Lambda-based targets, and AWS IAM for outbound authentication. The same concepts apply when using other IdP's or other target types."
   ]
  },
  {
   "cell_type": "markdown",
   "id": "d896e613",
   "metadata": {},
   "source": [
    "### Creating Amazon Cognito resources"
   ]
  },
  {
   "cell_type": "markdown",
   "id": "bb02989f",
   "metadata": {},
   "source": [
    "In this tutorial, we assume you have already created resources and have set environment variables for the following:\n",
    "\n",
    "- your IAM role for Lambda execution (`gateway_lambda_iam_role`)\n",
    "- a Lambda function for your simple math tools (`calc_lambda_arn`)\n",
    "- a Lambda function for your restaurant reservation tool (`restaurant_lambda_arn`)\n",
    "- your Amazon Cognito user pools, giving you a client id (`cognito_client_id`) and a discovery URL (`cognito_discovery_url`)"
   ]
  },
  {
   "cell_type": "markdown",
   "id": "c9cb9eb5",
   "metadata": {},
   "source": [
    "Here's the JSON tool metadata for the restaurant API. Note that for existing REST services, the API\n",
    "specs are provided using OpenAPI Schema instead."
   ]
  },
  {
   "cell_type": "code",
   "id": "e953add5",
   "metadata": {},
   "source": [
    "with open('./restaurant/restaurant-api.json') as f:\n",
    "    data = json.load(f)\n",
    "print(json.dumps(data, indent=4))"
   ],
   "outputs": [],
   "execution_count": null
  },
  {
   "cell_type": "markdown",
   "id": "a0758917",
   "metadata": {},
   "source": [
    "Here are the simple calculator APIs."
   ]
  },
  {
   "cell_type": "code",
   "id": "ef1a47e2",
   "metadata": {},
   "source": [
    "with open('./calc/calc-api.json') as f:\n",
    "    data = json.load(f)[0:3]\n",
    "print(json.dumps(data, indent=4))"
   ],
   "outputs": [],
   "execution_count": null
  },
  {
   "cell_type": "markdown",
   "id": "414b7a8a",
   "metadata": {},
   "source": [
    "Here is the Lambda function implementation for the calculator tools."
   ]
  },
  {
   "cell_type": "code",
   "id": "48160295",
   "metadata": {},
   "source": [
    "from IPython.display import display, Code\n",
    "\n",
    "file_path = './calc/calc-lambda.py' # Replace with the actual path to your file\n",
    "\n",
    "with open(file_path, 'r') as f:\n",
    "    code_content = f.read()\n",
    "\n",
    "display(Code(code_content, language='python'))"
   ],
   "outputs": [],
   "execution_count": null
  },
  {
   "cell_type": "code",
   "id": "b25b7e35",
   "metadata": {},
   "source": [
    "file_path = './restaurant/restaurant-lambda.py' # Replace with the actual path to your file\n",
    "\n",
    "with open(file_path, 'r') as f:\n",
    "    code_content = f.read()\n",
    "\n",
    "display(Code(code_content, language='python'))"
   ],
   "outputs": [],
   "execution_count": null
  },
  {
   "cell_type": "markdown",
   "id": "b9de9ef7",
   "metadata": {},
   "source": [
    "#### Let's create a few helper functions for using the control plane APIs"
   ]
  },
  {
   "cell_type": "code",
   "id": "a6a3cb63",
   "metadata": {},
   "source": [
    "def read_apispec(json_file_path):\n",
    "    try:\n",
    "        # read json file and return contents as string\n",
    "        with open(json_file_path, 'r') as file:\n",
    "            # Parse JSON to Python object\n",
    "            api_spec = json.load(file)\n",
    "            return api_spec\n",
    "            \n",
    "    except FileNotFoundError:\n",
    "        return f\"Error: File {json_file_path} not found\"\n",
    "    except Exception as e:\n",
    "        return f\"An unexpected error occurred: {str(e)}\"\n",
    "\n",
    "def create_gateway(gateway_name, gateway_desc):\n",
    "    # Use Cognito for Inbound OAuth to our Gateway\n",
    "    auth_config = {\n",
    "        \"customJWTAuthorizer\": {\n",
    "            \"allowedClients\": [os.getenv(\"cognito_client_id\")],\n",
    "            \"discoveryUrl\": os.getenv(\"cognito_discovery_url\")\n",
    "        }\n",
    "    }\n",
    "\n",
    "    # Enable semantic search of tools\n",
    "    search_config = {\n",
    "        \"mcp\": {\n",
    "            \"searchType\": \"SEMANTIC\",\n",
    "            \"supportedVersions\": [\"2025-03-26\"]\n",
    "        }\n",
    "    }\n",
    "\n",
    "    # Create the gateway\n",
    "    response = agentcore_client.create_gateway(\n",
    "        name=gateway_name,\n",
    "        roleArn=os.getenv(\"genesis_iam_role\"),\n",
    "        #kmsKeyArn=\"arn:aws:kms:us-east-1:966111871240:key/7e526552-383f-435e-a2e7-5d35d49a96c8\",\n",
    "        authorizerType=\"CUSTOM_JWT\",\n",
    "        description=gateway_desc,\n",
    "        protocolType=\"MCP\",\n",
    "        authorizerConfiguration=auth_config,\n",
    "        protocolConfiguration=search_config\n",
    "    )\n",
    "\n",
    "    print(json.dumps(response, indent=2, default=str))\n",
    "    return response['gatewayId']\n",
    "\n",
    "def create_gatewaytarget(gateway_id, target_name, target_descr, lambda_arn, api_spec):\n",
    "    # Add a Lambda target to the gateway \n",
    "    response = agentcore_client.create_gateway_target(\n",
    "        gatewayIdentifier=gateway_id,\n",
    "        name=target_name,\n",
    "        description=target_descr,\n",
    "        targetConfiguration={\n",
    "            \"mcp\": {\n",
    "                \"lambda\": {\n",
    "                    \"lambdaArn\": lambda_arn,\n",
    "                    \"toolSchema\": {\n",
    "                        \"inlinePayload\": api_spec\n",
    "                    }\n",
    "                }\n",
    "            }\n",
    "        },\n",
    "        # Use IAM as credential provider\n",
    "        credentialProviderConfigurations=[{\"credentialProviderType\":\"GATEWAY_IAM_ROLE\"}]\n",
    "    )\n",
    "    return response['targetId']\n",
    "\n",
    "    #print(json.dumps(response, indent=2, default=str))\n",
    "\n",
    "def list_gateways():\n",
    "    response = agentcore_client.list_gateways()\n",
    "    print(json.dumps(response, indent=2, default=str))\n"
   ],
   "outputs": [],
   "execution_count": null
  },
  {
   "cell_type": "code",
   "id": "0df17517",
   "metadata": {},
   "source": [
    "GATEWAY_NAME = \"gw-tutorial\""
   ],
   "outputs": [],
   "execution_count": null
  },
  {
   "cell_type": "markdown",
   "id": "2084feec",
   "metadata": {},
   "source": [
    "### Creating your first AgentCore Gateway\n",
    "Now let's create the gateway for this tutorial, providing a name and a description."
   ]
  },
  {
   "cell_type": "code",
   "id": "175d1ef3",
   "metadata": {},
   "source": [
    "print(f\"Create gateway with name: {GATEWAY_NAME}\")\n",
    "gatewayId = create_gateway(gateway_name=GATEWAY_NAME, gateway_desc=\"AgentCore Gateway Tutorial\")\n",
    "print(f\"Gateway created with id: {gatewayId}. Creating gateway target.\")"
   ],
   "outputs": [],
   "execution_count": null
  },
  {
   "cell_type": "markdown",
   "id": "c878491f",
   "metadata": {},
   "source": [
    "### Adding AgentCore Gateway Targets\n",
    "In this tutorial, we assume you already have installed a pair of Lambda functions, one for doing simple\n",
    "math calculations, and another that simulates creating a restaurant reservation. We'll add a Gateway Target\n",
    "for each of these functions.\n",
    "\n",
    "Once we've added those targets, we'll add additional targets to simply drive higher MCP tool counts that\n",
    "help us demonstrate the power of AgentCore Gateway search."
   ]
  },
  {
   "cell_type": "markdown",
   "id": "d4d24edb",
   "metadata": {},
   "source": [
    "Now that the gateway is created, let's add a target for making restaurant reservations\n",
    "via a Lambda function."
   ]
  },
  {
   "cell_type": "code",
   "id": "58d04ee4",
   "metadata": {},
   "source": [
    "restaurant_api_spec = read_apispec(\"./restaurant/OLD-api.json\")\n",
    "print(restaurant_api_spec)\n",
    "restaurant_lambda_arn = os.getenv(\"restaurant_lambda_arn\")\n",
    "print(f\"Restaurant Lambda ARN: {restaurant_lambda_arn}\")\n",
    "\n",
    "restaurantTargetId = create_gatewaytarget(gateway_id=gatewayId, \n",
    "                                            lambda_arn=restaurant_lambda_arn,\n",
    "                                            target_name=\"FoodTools\",\n",
    "                                            target_descr=\"Restaurant Tools\",\n",
    "                                            api_spec=restaurant_api_spec)\n",
    "print(f\"RestaurantTarget created with id: {restaurantTargetId} on gateway: {gatewayId}\")"
   ],
   "outputs": [],
   "execution_count": null
  },
  {
   "cell_type": "markdown",
   "id": "4da14900",
   "metadata": {},
   "source": [
    "Here we'll add a second target, this time with a Lambda that implements 4 basic tools (add, subtract,\n",
    "multiply, divide), and a set of 75 generated tool definitions for investment management (trading, credit research, quantitative analysis, portfolio management). The investment management tool definitions are not \n",
    "actually implemented in the Lambda. We are only adding them to get a large volume of tools."
   ]
  },
  {
   "cell_type": "code",
   "id": "b2599c9f",
   "metadata": {},
   "source": [
    "calc_api_spec = read_apispec(\"./calc/calc-api.json\")\n",
    "print(f\"API spec for calc has {len(calc_api_spec)} functions\\n\")\n",
    "calc_lambda_arn = os.getenv(\"calc_lambda_arn\")\n",
    "print(f\"Calc Lambda ARN: {calc_lambda_arn}\")\n",
    "\n",
    "calcTargetId = create_gatewaytarget(gateway_id=gatewayId, \n",
    "                                    lambda_arn=calc_lambda_arn,\n",
    "                                    target_name=\"CalcTools\",\n",
    "                                    target_descr=\"Calculation Tools\",\n",
    "                                    api_spec=calc_api_spec)\n",
    "print(f\"CalcTools Target created with id: {calcTargetId} on gateway: {gatewayId}\")"
   ],
   "outputs": [],
   "execution_count": null
  },
  {
   "cell_type": "markdown",
   "id": "3200dc9f",
   "metadata": {},
   "source": [
    "To demonstrate the power of gateway search, now add a few more copies of the Calculator target, \n",
    "so that we end up with 300+ MCP tools exposed."
   ]
  },
  {
   "cell_type": "code",
   "id": "6b3aedf2",
   "metadata": {},
   "source": [
    "calcTargetId = create_gatewaytarget(gateway_id=gatewayId, \n",
    "                                    lambda_arn=calc_lambda_arn,\n",
    "                                    target_name=\"Calc2\",\n",
    "                                    target_descr=\"Calculation 2 Tools\",\n",
    "                                    api_spec=calc_api_spec)\n",
    "print(f\"Calc2 Target created with id: {calcTargetId} on gateway: {gatewayId}\")\n",
    "\n",
    "calcTargetId = create_gatewaytarget(gateway_id=gatewayId, \n",
    "                                    lambda_arn=calc_lambda_arn,\n",
    "                                    target_name=\"Calc3\",\n",
    "                                    target_descr=\"Calculation 3 Tools\",\n",
    "                                    api_spec=calc_api_spec)\n",
    "print(f\"Calc3 Target created with id: {calcTargetId} on gateway: {gatewayId}\")\n",
    "\n",
    "calcTargetId = create_gatewaytarget(gateway_id=gatewayId, \n",
    "                                    lambda_arn=calc_lambda_arn,\n",
    "                                    target_name=\"Calc4\",\n",
    "                                    target_descr=\"Calculation 4 Tools\",\n",
    "                                    api_spec=calc_api_spec)\n",
    "print(f\"Calc4 Target created with id: {calcTargetId} on gateway: {gatewayId}\")\n",
    "\n"
   ],
   "outputs": [],
   "execution_count": null
  },
  {
   "cell_type": "markdown",
   "id": "767e8bcc",
   "metadata": {},
   "source": [
    "### "
   ]
  },
  {
   "cell_type": "code",
   "id": "1f0a44c2",
   "metadata": {},
   "source": [
    "\n",
    "# use the AgentCore SDK to simplify Cognito setup, and create gw, add target"
   ],
   "outputs": [],
   "execution_count": null
  },
  {
   "cell_type": "markdown",
   "id": "5be91e62",
   "metadata": {},
   "source": [
    "Let's list the Gateway's that have been created in our account so far."
   ]
  },
  {
   "cell_type": "code",
   "id": "761bd551",
   "metadata": {},
   "source": [
    "resp = agentcore_client.list_gateways()\n",
    "print(resp['items'])"
   ],
   "outputs": [],
   "execution_count": null
  },
  {
   "cell_type": "code",
   "id": "fa3c5eb5",
   "metadata": {},
   "source": [
    "GATEWAY_ID = gatewayId #\"gw6-gbd0mzhuog\""
   ],
   "outputs": [],
   "execution_count": null
  },
  {
   "cell_type": "code",
   "id": "c6518ace",
   "metadata": {},
   "source": [
    "resp = agentcore_client.get_gateway(gatewayIdentifier=GATEWAY_ID)\n",
    "print(resp)"
   ],
   "outputs": [],
   "execution_count": null
  },
  {
   "cell_type": "code",
   "id": "39796ebb",
   "metadata": {},
   "source": [
    "resp = agentcore_client.list_gateway_targets(gatewayIdentifier=GATEWAY_ID)\n",
    "print(resp['items'])\n",
    "targets = resp['items']"
   ],
   "outputs": [],
   "execution_count": null
  },
  {
   "cell_type": "code",
   "id": "ddaaccd0",
   "metadata": {},
   "source": [
    "resp = agentcore_client.get_gateway_target(gatewayIdentifier=GATEWAY_ID, targetId=targets[0]['targetId'])\n",
    "print(resp)"
   ],
   "outputs": [],
   "execution_count": null
  },
  {
   "cell_type": "markdown",
   "id": "b701bf49",
   "metadata": {},
   "source": [
    "# Searching for tools from a Gateway"
   ]
  },
  {
   "cell_type": "markdown",
   "id": "e5599870",
   "metadata": {},
   "source": [
    "### Getting familiar with MCP list tools before we search"
   ]
  },
  {
   "cell_type": "markdown",
   "id": "e6dbea12",
   "metadata": {},
   "source": [
    "Let's define some utility functions to retrieve our MCP endpoint URL for a given Gateway ID, and to \n",
    "retrieve our JWT OAuth access token to securely use our Gateway."
   ]
  },
  {
   "cell_type": "code",
   "id": "d15ac0f2",
   "metadata": {},
   "source": [
    "def get_gateway_endpoint(gateway_id):\n",
    "    response = agentcore_client.get_gateway(\n",
    "        gatewayIdentifier=gateway_id\n",
    "    )\n",
    "    gateway_url = response['gatewayUrl']\n",
    "    return gateway_url \n",
    "\n",
    "def get_oauth_token():\n",
    "    response = requests.post(\n",
    "        os.getenv(\"cognito_token_url\"),\n",
    "        data=f\"grant_type=client_credentials&client_id={os.getenv('cognito_client_id')}&client_secret={os.getenv('cognito_client_secret')}&scope={os.getenv('cognito_auth_scope')}\",\n",
    "        headers={'Content-Type': 'application/x-www-form-urlencoded'}\n",
    "    )\n",
    "    return response.json()['access_token']"
   ],
   "outputs": [],
   "execution_count": null
  },
  {
   "cell_type": "markdown",
   "id": "2cac832e",
   "metadata": {},
   "source": [
    "Now that our Gateway is created and has targets, let's grab the MCP URL to that\n",
    "Gateway. We can retrieve that from the Gateway control plane based on the Gateway ID,\n",
    "giving back the endpoint URL."
   ]
  },
  {
   "cell_type": "code",
   "id": "97f5f769",
   "metadata": {},
   "source": [
    "gatewayEndpoint = get_gateway_endpoint(gateway_id=GATEWAY_ID)\n",
    "print(f\"Gateway Endpoint - MCP URL: {gatewayEndpoint}\")"
   ],
   "outputs": [],
   "execution_count": null
  },
  {
   "cell_type": "markdown",
   "id": "a99920e9",
   "metadata": {},
   "source": [
    "MCP server security is based on OAuth. To interact with our Gateway, we'll need to\n",
    "retrieve a JWT OAuth access token. "
   ]
  },
  {
   "cell_type": "code",
   "id": "bb2525ec",
   "metadata": {},
   "source": [
    "jwtToken = get_oauth_token()\n",
    "print(f\"Bearer token: {jwtToken}\")"
   ],
   "outputs": [],
   "execution_count": null
  },
  {
   "cell_type": "markdown",
   "id": "de5f7d58",
   "metadata": {},
   "source": [
    "Let's define an `invoke_gateway_tool` utility function. Given an endpoint URL and a JWT token,\n",
    "you can use this utility to invoke any of the MCP tools that AgentCore Gateway made available\n",
    "for you when you added Gateway Targets to your Gateway."
   ]
  },
  {
   "cell_type": "code",
   "id": "430730db",
   "metadata": {},
   "source": [
    "def invoke_gateway_tool(gateway_endpoint, jwt_token, tool_params):\n",
    "    # print(f\"Invoking tool {tool_params['name']}\")\n",
    "\n",
    "    requestBody = {\n",
    "        \"jsonrpc\": \"2.0\",\n",
    "        \"id\": 2,\n",
    "        \"method\": \"tools/call\",\n",
    "        \"params\": tool_params\n",
    "    }\n",
    "    response = requests.post(\n",
    "        gateway_endpoint,\n",
    "        json=requestBody,\n",
    "        headers={'Authorization': f'Bearer {jwt_token}', 'Content-Type': 'application/json'}\n",
    "    )\n",
    "\n",
    "    return response.json()"
   ],
   "outputs": [],
   "execution_count": null
  },
  {
   "cell_type": "markdown",
   "id": "f38bb52f",
   "metadata": {},
   "source": [
    "Here's another utility function for using MCP's `tools/list` method for listing the MCP tools\n",
    "available from your Gateway. Given a Gateway ID and a JWT Token, it retrieves the full set\n",
    "of tools from that Gateway in agent-ready form. The list contains Strands Agents MCPAgentTool objects\n",
    "that are suitable for handing your Agent. \n",
    "\n",
    "Note that `tools/list` call is paginated, so the function needs to loop, getting a page of\n",
    "tools at a time, until the `nextCursor` field is no longer populated. The utility function directly\n",
    "calls the endpoint using HTTPS and the jsonrpc protocol. This is a lower level way to list tools\n",
    "compared to the `MCPClient` class provided by Strands Agents. We'll see that experience later."
   ]
  },
  {
   "cell_type": "code",
   "id": "7d21a000",
   "metadata": {},
   "source": [
    "def get_all_agent_tools_from_mcp_endpoint(gateway_endpoint, jwt_token, client):\n",
    "    more_tools = True\n",
    "    tools_count = 0\n",
    "    tools_list = []\n",
    "\n",
    "    requestBody = {\n",
    "        \"jsonrpc\": \"2.0\",\n",
    "        \"id\": 2,\n",
    "        \"method\": \"tools/list\",\n",
    "        \"params\": {}\n",
    "    }\n",
    "    next_cursor = \"\"\n",
    "\n",
    "    while more_tools:\n",
    "        if tools_count == 0:\n",
    "            requestBody[\"params\"] = {}\n",
    "        else:\n",
    "            print(f\"\\nGetting next page of tools since a next cursor was returned\\n\")\n",
    "            requestBody[\"params\"] = {\n",
    "                \"cursor\": next_cursor\n",
    "            }\n",
    "\n",
    "        headers = {'Authorization': f'Bearer {jwt_token}', 'Content-Type': 'application/json'}\n",
    "\n",
    "        print(f\"\\n\\nListing tools for gateway {gateway_endpoint}\")\n",
    "        # print(f\"...requestBody: {requestBody}\\n\")\n",
    "        # print(f\"...headers: {headers}\\n\")\n",
    "\n",
    "        response = requests.post(\n",
    "            gateway_endpoint, \n",
    "            json=requestBody,\n",
    "            headers=headers\n",
    "        )\n",
    "\n",
    "        # print(\"\\nResponse Headers:\")\n",
    "        # for header, value in response.headers.items():\n",
    "        #     print(f\"{header}: {value}\")\n",
    "\n",
    "        tools_json = response.json()\n",
    "        tools_count += len(tools_json[\"result\"][\"tools\"])\n",
    "\n",
    "        for tool in tools_json[\"result\"][\"tools\"]:\n",
    "            mcp_tool = MCPTool(name=tool['name'],\n",
    "                            description=tool['description'],\n",
    "                            inputSchema=tool['inputSchema'])\n",
    "            mcp_agent_tool = MCPAgentTool(mcp_tool, client)\n",
    "            short_descr = tool['description'][0:40] + '...'\n",
    "            print(f\"adding tool '{mcp_agent_tool.tool_name}' - {short_descr}\")\n",
    "            tools_list.append(mcp_agent_tool)\n",
    "\n",
    "        if \"nextCursor\" in tools_json[\"result\"]:\n",
    "            next_cursor = tools_json[\"result\"][\"nextCursor\"]\n",
    "            more_tools = True\n",
    "        else:\n",
    "            more_tools = False\n",
    "\n",
    "    print(f\"\\nTotal tools found: {tools_count}\\n\")\n",
    "    return tools_list"
   ],
   "outputs": [],
   "execution_count": null
  },
  {
   "cell_type": "markdown",
   "id": "29ea36db",
   "metadata": {},
   "source": [
    "Let's call it and see what we get."
   ]
  },
  {
   "cell_type": "code",
   "id": "b3eff51d",
   "metadata": {},
   "source": [
    "client = MCPClient(lambda: streamablehttp_client(f\"{gatewayEndpoint}\",\n",
    "                                                    headers={\"Authorization\": f\"Bearer {jwtToken}\"}))\n",
    "with client:\n",
    "    all_tools = get_all_agent_tools_from_mcp_endpoint(gateway_endpoint=gatewayEndpoint, \n",
    "                                            jwt_token=jwtToken, client=client)\n",
    "    print(f\"\\nFound {len(all_tools)} tools from list_tools_sync() on mcp client\\n\")"
   ],
   "outputs": [],
   "execution_count": null
  },
  {
   "cell_type": "markdown",
   "id": "271d04ef",
   "metadata": {},
   "source": [
    "If you have written any Python based MCP client, you are likely familiar the `list_tools_sync()` method \n",
    "which givest you back the set of tools available from the MCP Server which the client is associated\n",
    "with. But did you know MCP list tools is also paginated? By default, you will only get the first small\n",
    "subset of tools returned. For simple MCP servers, you may not have\n",
    "noticed, but for many real world MCP servers, your code needs to loop, grabbing pages of tools at a time\n",
    "until there are no more pages. The following utility `get_all_mcp_tools` does just that. It returns\n",
    "the full list of tools from a given Strands Agent MCP Client."
   ]
  },
  {
   "cell_type": "code",
   "id": "ef10b8c7",
   "metadata": {},
   "source": [
    "def get_all_mcp_tools(client):\n",
    "    more_tools = True\n",
    "    tools = []\n",
    "    pagination_token = None\n",
    "    while more_tools:\n",
    "        tmp_tools = client.list_tools_sync(pagination_token=pagination_token)\n",
    "        tools.extend(tmp_tools)\n",
    "        if tmp_tools.pagination_token is None:\n",
    "            more_tools = False\n",
    "        else:\n",
    "            more_tools = True \n",
    "            pagination_token = tmp_tools.pagination_token\n",
    "    return tools"
   ],
   "outputs": [],
   "execution_count": null
  },
  {
   "cell_type": "markdown",
   "id": "e519196b",
   "metadata": {},
   "source": [
    "\n",
    "Let's give it a try with our Gateway and find out how many tools the Python client finds. \n",
    "First we'll create an MCPClient object based on our endpoint URL and our JWT bearer token."
   ]
  },
  {
   "cell_type": "code",
   "id": "817d1e48",
   "metadata": {},
   "source": [
    "client = MCPClient(lambda: streamablehttp_client(f\"{gatewayEndpoint}\",\n",
    "                                                    headers={\"Authorization\": f\"Bearer {jwtToken}\"}))\n"
   ],
   "outputs": [],
   "execution_count": null
  },
  {
   "cell_type": "markdown",
   "id": "39e61bff",
   "metadata": {},
   "source": [
    "Now we retrieve the full set of tools across many pages of tools returned by the MCP server."
   ]
  },
  {
   "cell_type": "code",
   "id": "e3b4679d",
   "metadata": {},
   "source": [
    "with client:\n",
    "    all_tools = get_all_mcp_tools(client)\n",
    "    print(f\"\\nFound {len(all_tools)} tools from list_tools_sync() on mcp client\\n\")"
   ],
   "outputs": [],
   "execution_count": null
  },
  {
   "cell_type": "markdown",
   "id": "ba410062",
   "metadata": {},
   "source": [
    "We have now seen 2 different ways to get the full set of tools from your Gateway using it\n",
    "as an MCP Server: 1/ directly using jsonrpc, 2/ using the `list_tools_sync()` method on the\n",
    "Strands Agent MCPClient. For typical developers building agents, you'll be using the latter."
   ]
  },
  {
   "cell_type": "markdown",
   "id": "af97ef22",
   "metadata": {},
   "source": [
    "### Using the Gateway search tool\n",
    "Now lets try our first semantic search on the Gateway using its built-in search tool."
   ]
  },
  {
   "cell_type": "markdown",
   "id": "9de8a698",
   "metadata": {},
   "source": [
    "First let's define a simple utility function to execute the search tool using MCP.\n",
    "Just like for listing tools, we need the gateway endpoint and JWT token. Other than that,\n",
    "all we need to pass in is the search query. The Gateway search tool will do the rest,\n",
    "matching that query against the serverless vector store that it automatically manages on your behalf."
   ]
  },
  {
   "cell_type": "code",
   "id": "04d868a8",
   "metadata": {},
   "source": [
    "def tool_search(gateway_endpoint, jwt_token, query):\n",
    "    toolParams = {\n",
    "        \"name\": \"x-amz-bedrock-agentcore-search\",\n",
    "        \"arguments\": {\n",
    "            \"query\": query\n",
    "        }\n",
    "    }\n",
    "    toolResp = invoke_gateway_tool(gateway_endpoint=gateway_endpoint, \n",
    "                                   jwt_token=jwt_token, \n",
    "                                   tool_params=toolParams)\n",
    "    tools = toolResp[\"result\"][\"structuredContent\"][\"tools\"]\n",
    "    return tools"
   ],
   "outputs": [],
   "execution_count": null
  },
  {
   "cell_type": "code",
   "id": "939755a5",
   "metadata": {},
   "source": [
    "start_time = time.time()\n",
    "tools_found = tool_search(gateway_endpoint=gatewayEndpoint,\n",
    "                                jwt_token=jwtToken,\n",
    "                                query=\"find me 3 credit research tools\")\n",
    "end_time = time.time()\n",
    "print(f\"tool search via direct Gateway invocation took {end_time - start_time} seconds\")\n",
    "print(f\"{len(tools_found)} tools were found.\")\n",
    "print(f\"Top tool: {tools_found[0]['name']}\")"
   ],
   "outputs": [],
   "execution_count": null
  },
  {
   "cell_type": "markdown",
   "id": "602cbd2d",
   "metadata": {},
   "source": [
    "Notice how fast the search returns, in under a second in most cases. The results are returned\n",
    "in descending order of search relevance based on matching the query to the tool metadata. So,\n",
    "the most relevant tools are first on the list. The intial implementation of search gives back\n",
    "up to 10 results. You could then use all of these tools in your agent, or simply pick the first one\n",
    "or two."
   ]
  },
  {
   "cell_type": "markdown",
   "id": "7cc03391",
   "metadata": {},
   "source": [
    "# Using Strands Agents with an MCP server that has many tools"
   ]
  },
  {
   "cell_type": "code",
   "id": "4d2775e6",
   "metadata": {},
   "source": [
    "# !pip install -U --force-reinstall certifi"
   ],
   "outputs": [],
   "execution_count": null
  },
  {
   "cell_type": "code",
   "id": "09d4a0b8",
   "metadata": {},
   "source": [
    "# import httpx\n",
    "# def create_insecure_http_client(**kwargs) -> httpx.AsyncClient:\n",
    "#     \"\"\"Create an HTTPX client with SSL verification disabled.\"\"\"\n",
    "#     kwargs['verify'] = False\n",
    "#     # Optionally add other configurations\n",
    "#     kwargs.setdefault('timeout', httpx.Timeout(30.0))\n",
    "#     return httpx.AsyncClient(**kwargs)\n",
    "# jwtToken = get_oauth_token()\n",
    "# client = MCPClient(lambda: streamablehttp_client(f\"{gatewayEndpoint}\",\n",
    "#                                                  headers={\"Authorization\": f\"Bearer {jwtToken}\"}, \n",
    "#                                                  httpx_client_factory=create_insecure_http_client))"
   ],
   "outputs": [],
   "execution_count": null
  },
  {
   "cell_type": "code",
   "id": "066e7be8",
   "metadata": {},
   "source": [
    "import sys \n",
    "# sys.path.append(\"./PyAmazonCACerts/src\")"
   ],
   "outputs": [],
   "execution_count": null
  },
  {
   "cell_type": "code",
   "id": "f5f15d49",
   "metadata": {},
   "source": [
    "# import amazoncerts "
   ],
   "outputs": [],
   "execution_count": null
  },
  {
   "cell_type": "code",
   "id": "bf0676f5",
   "metadata": {},
   "source": [
    "import certifi\n",
    "os.environ['AWS_CA_BUNDLE'] = certifi.where()"
   ],
   "outputs": [],
   "execution_count": null
  },
  {
   "cell_type": "code",
   "id": "0a407392",
   "metadata": {},
   "source": [
    "os.getenv('AWS_CA_BUNDLE')"
   ],
   "outputs": [],
   "execution_count": null
  },
  {
   "cell_type": "markdown",
   "id": "433d0f3f",
   "metadata": {},
   "source": [
    "Here we select a model to use with our Strands Agent. \n",
    "For this notebook, we are using Amazon Bedrock models, but Strands and AgentCore\n",
    "can work with any LLM."
   ]
  },
  {
   "cell_type": "code",
   "id": "b18c10bb",
   "metadata": {},
   "source": [
    "# from botocore.config import Config as BotocoreConfig\n",
    "bedrockmodel = BedrockModel(\n",
    "    model_id=\"us.anthropic.claude-3-7-sonnet-20250219-v1:0\",\n",
    "    temperature=0.7,\n",
    "    streaming=True,\n",
    "    boto_session=session\n",
    ")"
   ],
   "outputs": [],
   "execution_count": null
  },
  {
   "cell_type": "code",
   "id": "2086a0d6",
   "metadata": {},
   "source": [
    "jwtToken = get_oauth_token()\n",
    "client = MCPClient(lambda: streamablehttp_client(f\"{gatewayEndpoint}\",\n",
    "                                                    headers={\"Authorization\": f\"Bearer {jwtToken}\"}))\n",
    "with client:\n",
    "    all_tools = get_all_mcp_tools(client)\n",
    "    print(f\"\\nFound {len(all_tools)} tools from list_tools_sync() on mcp client\\n\")\n",
    "    simple_agent = Agent(model=bedrockmodel, tools=all_tools, callback_handler=null_callback_handler)\n",
    "    print(simple_agent.tool_names)\n",
    "    math_input = \"add 100 plus 50\"\n",
    "    result = simple_agent(math_input)\n",
    "    print(f\"{result.message['content'][0]['text']}\")\n"
   ],
   "outputs": [],
   "execution_count": null
  },
  {
   "cell_type": "code",
   "id": "ddda7a89",
   "metadata": {},
   "source": [
    "jwtToken = get_oauth_token()\n",
    "client = MCPClient(lambda: streamablehttp_client(f\"{gatewayEndpoint}\",\n",
    "                                                    headers={\"Authorization\": f\"Bearer {jwtToken}\"}))\n",
    "with client:\n",
    "    all_tools = get_all_mcp_tools(client)\n",
    "    print(f\"\\nFound {len(all_tools)} tools from list_tools_sync() on mcp client\\n\")\n",
    "    simple_agent = Agent(model=bedrockmodel, tools=all_tools, callback_handler=null_callback_handler)\n",
    "    direct_result = simple_agent.tool.Calc2___add_numbers(firstNumber=10, secondNumber=20)\n",
    "    resp_json = json.loads(direct_result['content'][0]['text'])\n",
    "    print(f\"direct result = {resp_json['response']['payload']}\")\n"
   ],
   "outputs": [],
   "execution_count": null
  },
  {
   "cell_type": "markdown",
   "id": "75cf8780",
   "metadata": {},
   "source": [
    "Let's show a simple example of a Strands Agents that uses the full list of tools\n",
    "from an MCP Server. "
   ]
  },
  {
   "cell_type": "markdown",
   "id": "5c0dcc80",
   "metadata": {},
   "source": [
    "# Adding tool search results to a Strands Agent"
   ]
  },
  {
   "cell_type": "markdown",
   "id": "374bc324",
   "metadata": {},
   "source": [
    "Now let's look at how the returned tools from a search can be added to your\n",
    "Strands Agent. To make the coding simpler, let's provide a utility function that\n",
    "maps tool search results to Strands MCPAgentTool objects. Simply pass in the \n",
    "search results, and indicate how many of those results you want to pass to your\n",
    "agent."
   ]
  },
  {
   "cell_type": "code",
   "id": "df1e3efe",
   "metadata": {},
   "source": [
    "def tools_to_strands_mcp_tools(tools, top_n):\n",
    "    strands_mcp_tools = []\n",
    "    for tool in tools[:top_n]:\n",
    "        mcp_tool = MCPTool(name=tool['name'],\n",
    "                        description=tool['description'],\n",
    "                        inputSchema=tool['inputSchema'])\n",
    "        strands_mcp_tools.append(MCPAgentTool(mcp_tool, client))\n",
    "    return strands_mcp_tools"
   ],
   "outputs": [],
   "execution_count": null
  },
  {
   "cell_type": "markdown",
   "id": "78c1e64e",
   "metadata": {},
   "source": [
    "# Showing 3x latency improvement by using tool search"
   ]
  },
  {
   "cell_type": "markdown",
   "id": "1bc164be",
   "metadata": {},
   "source": [
    "Now that we know how to use our Gateway tools from Strands, and we know how to search for tools and\n",
    "add them to an agent, lets show the power of search by highlighting the significant latency reduction\n",
    "and input token usage that can be delivered.\n",
    "\n",
    "To demonstrate that, we compare side by side 2 approaches:\n",
    "\n",
    "1. Without search. We add the full set of MCP tools that the MCP server exposes (300+ in our case) to our agent and let the agent do its tool selection and invocation accordingly.\n",
    "2. Using search. In the second approach, we do a search based on the topic at hand, and only send in the most relevant tools to the agent.\n",
    "\n",
    "To normalize the latency distribution and get a meaningful comparison, we perform multiple iterations of\n",
    "each approach. Also, to avoid over-stating the gains, when doing the search approach, we include not only the\n",
    "latency of the agent invocation, but also the latency of performing the up front search as well. For each \n",
    "iteration, we hand the agent a math task (add 2 numbers) and a food task (book a restaurant reservation).\n",
    "\n",
    "The results below highlight the potential gains of 3x latency reduction, and even greater reduction in\n",
    "input token usage. The token usage savings translate to cost savings, but note that for many model providers,\n",
    "input tokens are much lest costly. Even so, for a large scale agent deployment, even input token usage costs\n",
    "can add up, so dynamic search can benefit agent runtime costs as well."
   ]
  },
  {
   "cell_type": "code",
   "id": "ae1bea6c",
   "metadata": {},
   "source": [
    "jwtToken = get_oauth_token()\n",
    "client = MCPClient(lambda: streamablehttp_client(f\"{gatewayEndpoint}\",\n",
    "                                                    headers={\"Authorization\": f\"Bearer {jwtToken}\"}))"
   ],
   "outputs": [],
   "execution_count": null
  },
  {
   "cell_type": "code",
   "id": "0bdf1296",
   "metadata": {},
   "source": [
    "iterations = 2\n",
    "\n",
    "with client:\n",
    "    all_tools = get_all_mcp_tools(client)\n",
    "    print(f\"\\nFound {len(all_tools)} tools from list_tools_sync() on mcp client\\n\")\n",
    "    heavy_agent = Agent(model=bedrockmodel, tools=all_tools, callback_handler=null_callback_handler)\n",
    "\n",
    "    math_input = \"add 100 plus <iteration>\"\n",
    "    food_input = \"book me a table for 2 at Burger King under name Jo Smith at 7pm August <day>\"\n",
    "\n",
    "    print(\"using agent with ALL tools...\")\n",
    "    start_time = time.time()\n",
    "    for i in range(iterations):\n",
    "        result = heavy_agent(math_input.replace(\"<iteration>\", str(i+1)))\n",
    "        print(f\"{i+1}) {result.message['content'][0]['text']}\")\n",
    "\n",
    "        result = heavy_agent(food_input.replace(\"<day>\", str(i+1)))\n",
    "        print(f\"{i+1}) {result.message['content'][0]['text']}\")\n",
    "    end_time = time.time()\n",
    "    full_tokens = result.metrics.accumulated_usage['totalTokens']\n",
    "    elapsed_time = end_time - start_time\n",
    "    print(f\"\\nTotal time: {elapsed_time:.1f} s, tokens: {full_tokens:,d}\\n\")\n",
    "\n",
    "    print(\"using agent with ONLY tools from focused search...\")\n",
    "    start_time = time.time()\n",
    "    messages = []\n",
    "    light_agent = Agent()\n",
    "    for i in range(iterations):\n",
    "        print(f\"Searching for an ADDING tool from endpoint with full set of tools...\")\n",
    "        tools_found = tool_search(gateway_endpoint=gatewayEndpoint,\n",
    "                                jwt_token=jwtToken,\n",
    "                                query=\"tools for simply adding two numbers\")\n",
    "        print(f\"Top tool found: {tools_found[0]['name']}\\n\")\n",
    "        light_agent = Agent(model=bedrockmodel, tools=tools_to_strands_mcp_tools(tools_found, 1), \n",
    "                            messages=messages, callback_handler=null_callback_handler)\n",
    "        light_result = light_agent(math_input.replace(\"<iteration>\", str(i+1)))\n",
    "        print(f\"{i+1}) {light_result.message['content'][0]['text']}\")\n",
    "        messages = light_agent.messages\n",
    "        light_tokens = light_result.metrics.accumulated_usage['totalTokens']\n",
    "\n",
    "        print(f\"Searching for a RESTAURANT BOOKING tool from endpoint with full set of tools...\")\n",
    "        tools_found = tool_search(gateway_endpoint=gatewayEndpoint,\n",
    "                                jwt_token=jwtToken,\n",
    "                                query=\"tools for booking a restaurant reservation\")\n",
    "        print(f\"Top tool found: {tools_found[0]['name']}\\n\")\n",
    "        light_agent = Agent(model=bedrockmodel, tools=tools_to_strands_mcp_tools(tools_found, 1), \n",
    "                            messages=messages, callback_handler=null_callback_handler)\n",
    "        light_result = light_agent(food_input.replace(\"<day>\", str(i+1)))\n",
    "        print(f\"{i+1}) {light_result.message['content'][0]['text']}\")\n",
    "        messages = light_agent.messages\n",
    "        light_tokens = light_result.metrics.accumulated_usage['totalTokens']\n",
    "    end_time = time.time()\n",
    "    light_elapsed_time = end_time - start_time\n",
    "    print(f\"\\nTotal time: {light_elapsed_time:.1f} s, tokens: {light_tokens:,d}\\n\")\n",
    "\n",
    "    print(f\"\\n\\nLatency without search: {elapsed_time:.1f}s, using search: {light_elapsed_time:.1f}s\")\n",
    "    print(f\"Tokens without search: {full_tokens:,d}, using search: {light_tokens:,d}\")\n"
   ],
   "outputs": [],
   "execution_count": null
  },
  {
   "cell_type": "markdown",
   "id": "ed45bd90",
   "metadata": {},
   "source": []
  },
  {
   "cell_type": "markdown",
   "id": "a7a0d35e",
   "metadata": {},
   "source": []
  },
  {
   "cell_type": "markdown",
   "id": "3c569fc6",
   "metadata": {},
   "source": [
    "# Cleaning up resources"
   ]
  },
  {
   "cell_type": "markdown",
   "id": "8c51ae00",
   "metadata": {},
   "source": [
    "First let's define some helper functions for cleaning up AgentCore Gateway resources."
   ]
  },
  {
   "cell_type": "code",
   "id": "81ce65be",
   "metadata": {},
   "source": [
    "def delete_gatewaytarget(gateway_id):\n",
    "    response = agentcore_client.list_gateway_targets(\n",
    "        gatewayIdentifier=gateway_id\n",
    "    )\n",
    "    \n",
    "    print(f\"Found {len(response['items'])} targets for the gateway\")\n",
    "\n",
    "    for target in response['items']:\n",
    "        print(f\"Deleting target with Name: {target['name']} and Id: {target['targetId']}\")\n",
    "\n",
    "        response = agentcore_client.delete_gateway_target(\n",
    "            gatewayIdentifier=gateway_id,\n",
    "            targetId=target['targetId']\n",
    "        )\n",
    "\n",
    "def delete_gateway(gateway_id):\n",
    "    response = agentcore_client.delete_gateway(\n",
    "        gatewayIdentifier=gateway_id\n",
    "    )\n"
   ],
   "outputs": [],
   "execution_count": null
  },
  {
   "cell_type": "markdown",
   "id": "ecaade0e",
   "metadata": {},
   "source": [
    "### Deleting Gateway Targets"
   ]
  },
  {
   "cell_type": "code",
   "id": "930b0d93",
   "metadata": {},
   "source": [
    "delete_gatewaytarget(gateway_id=GATEWAY_ID)"
   ],
   "outputs": [],
   "execution_count": null
  },
  {
   "cell_type": "markdown",
   "id": "77c008ef",
   "metadata": {},
   "source": [
    "### Deleting the Gateway itself"
   ]
  },
  {
   "cell_type": "code",
   "id": "78916cc5",
   "metadata": {},
   "source": [
    "delete_gateway(gateway_id=GATEWAY_ID)"
   ],
   "outputs": [],
   "execution_count": null
  },
  {
   "cell_type": "markdown",
   "id": "011398be",
   "metadata": {},
   "source": [
    "### [Optional] Delete the Lambda functions"
   ]
  },
  {
   "cell_type": "markdown",
   "id": "3bdb4509",
   "metadata": {},
   "source": []
  }
 ],
 "metadata": {
  "kernelspec": {
   "display_name": "jul-11-env",
   "language": "python",
   "name": "python3"
  },
  "language_info": {
   "codemirror_mode": {
    "name": "ipython",
    "version": 3
   },
   "file_extension": ".py",
   "mimetype": "text/x-python",
   "name": "python",
   "nbconvert_exporter": "python",
   "pygments_lexer": "ipython3",
   "version": "3.12.8"
  }
 },
 "nbformat": 4,
 "nbformat_minor": 5
}
