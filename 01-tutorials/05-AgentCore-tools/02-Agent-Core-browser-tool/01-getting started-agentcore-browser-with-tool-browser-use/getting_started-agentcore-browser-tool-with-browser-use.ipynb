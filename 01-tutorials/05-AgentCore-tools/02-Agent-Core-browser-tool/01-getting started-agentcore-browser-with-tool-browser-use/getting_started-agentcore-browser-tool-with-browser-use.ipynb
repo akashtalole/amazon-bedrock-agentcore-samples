{
 "cells": [
  {
   "cell_type": "markdown",
   "id": "c6430ac3",
   "metadata": {},
   "source": [
    "## Amazon Bedrock Agentcore Browser tool tutorial \n",
    "\n",
    "\n",
    "This tutorial demonstrates how to use AgentCore Bedrock Browser to:\n",
    "1. Create a BrowserClient with a session\n",
    "2. Use Browser Use agent to drive the browser actions using natural language\n",
    "3. See results via logging\n",
    "\n",
    "\n",
    "## Prerequisites\n",
    "- AWS account with Bedrock AgentCore Browser tool access\n",
    "- You have the necessary IAM permissions to create and manage browser tool resources\n",
    "- Required Python packages installed(including boto3 & bedrock-agentcore)\n",
    "- browser-use sdk instaled\n",
    "\n",
    "\n",
    "## Your IAM execution role should have the following IAM policy attached"
   ]
  },
  {
   "cell_type": "markdown",
   "id": "bf6a5285",
   "metadata": {},
   "source": [
    "~~~ {\n",
    "    \"Version\": \"2012-10-17\",\n",
    "    \"Statement\": [\n",
    "        {\n",
    "            \"Effect\": \"Allow\",\n",
    "            \"Action\": [\n",
    "                \"bedrock-agentcore:CreateBrowser\",\n",
    "                \"bedrock-agentcore:StartBrowserSession\",\n",
    "                \"bedrock-agentcore:InvokeBrowser\",\n",
    "                \"bedrock-agentcore:StopBrowserSession\",\n",
    "                \"bedrock-agentcore:ListBrowsers\",\n",
    "                \"bedrock-agentcore:GetBrowser\"\n",
    "            ],\n",
    "            \"Resource\": \"*\"\n",
    "        },\n",
    "        {\n",
    "            \"Effect\": \"Allow\",\n",
    "            \"Action\": [\n",
    "                \"logs:CreateLogGroup\",\n",
    "                \"logs:CreateLogStream\",\n",
    "                \"logs:PutLogEvents\"\n",
    "            ],\n",
    "            \"Resource\": \"arn:aws:logs:*:*:log-group:/aws/bedrock-agentcore/browser*\"\n",
    "        }\n",
    "    ]\n",
    "}"
   ]
  },
  {
   "cell_type": "markdown",
   "id": "1212a355",
   "metadata": {},
   "source": [
    "## How it works\n",
    "\n",
    "A browser tool sandbox is a secure execution environment that enables AI agents to safely interact with web browsers. When a user makes a request, the Large Language Model (LLM) selects appropriate tools and translates commands. These commands are executed within a controlled sandbox environment containing a headless browser and hosted library server (using tools like Playwright). The sandbox provides isolation and security by containing web interactions within a restricted space, preventing unauthorized system access. The agent receives feedback through screenshots and can perform automated tasks while maintaining system security. \n",
    "\n",
    "![architecture local](../images//browser-tool.png)"
   ]
  },
  {
   "cell_type": "markdown",
   "id": "564f8445",
   "metadata": {},
   "source": [
    "## 1. Setting Up the Environment\n",
    "\n",
    "First, let's install and import the necessary libraries to initiaize the browser tool sandbox client. "
   ]
  },
  {
   "cell_type": "code",
   "execution_count": null,
   "id": "714f2462",
   "metadata": {},
   "outputs": [],
   "source": [
    "%pip install \"browser-use<0.3.3\" ## Need this version to over come this bug: \n",
    "%pip install langchain_aws"
   ]
  },
  {
   "cell_type": "code",
   "execution_count": null,
   "id": "a89f7eab",
   "metadata": {},
   "outputs": [],
   "source": [
    "from bedrock_agentcore.tools.browser_client import BrowserClient\n",
    "from browser_use import Agent\n",
    "from browser_use.browser.session import BrowserSession\n",
    "from browser_use.browser import BrowserProfile\n",
    "from langchain_aws import ChatBedrockConverse\n",
    "from rich.console import Console\n",
    "from contextlib import suppress\n",
    "import time \n",
    "import boto3\n",
    "import asyncio"
   ]
  },
  {
   "cell_type": "code",
   "execution_count": null,
   "id": "dad07098",
   "metadata": {},
   "outputs": [],
   "source": [
    "console = Console()"
   ]
  },
  {
   "cell_type": "markdown",
   "id": "093f3090",
   "metadata": {},
   "source": [
    "## 2. Setup the browser client\n",
    "We will setup the browser client and wait for it to be ready. Then, we will generate web-socket url and headers \n",
    " \n"
   ]
  },
  {
   "cell_type": "code",
   "execution_count": null,
   "id": "c532d851",
   "metadata": {},
   "outputs": [],
   "source": [
    "region = \"us-west-2\" ## Replace with your region \n",
    "client = BrowserClient(region)\n",
    "client.start()\n",
    "\n",
    "#Wait for browser to be ready \n",
    "for i in range(10, 0, -1):\n",
    "    print(f\"\\r   {i} seconds remaining...\", end=\"\", flush=True)\n",
    "    time.sleep(1)\n",
    "console.print(\"\\r   Browser ready! \" )\n",
    "\n",
    "# Extract ws_url and headers\n",
    "ws_url, headers = client.generate_ws_headers()"
   ]
  },
  {
   "cell_type": "markdown",
   "id": "a10a5875",
   "metadata": {},
   "source": [
    "## 4. Helper function to run browser task\n",
    "Run a browser automation task using browser-use Agent \n",
    "\n",
    "\n"
   ]
  },
  {
   "cell_type": "code",
   "execution_count": null,
   "id": "9084345a",
   "metadata": {},
   "outputs": [],
   "source": [
    "async def run_browser_task(browser_session: BrowserSession, bedrock_chat: ChatBedrockConverse, task: str) -> None:\n",
    "    \"\"\"\n",
    "    Run a browser automation task using browser_use\n",
    "    \n",
    "    Args:\n",
    "        browser_session: Existing browser session to reuse\n",
    "        bedrock_chat: Bedrock chat model instance\n",
    "        task: Natural language task for the agent\n",
    "    \"\"\"\n",
    "    try:\n",
    "        # Show task execution\n",
    "        console.print(f\"\\n[bold blue]🤖 Executing task:[/bold blue] {task}\")\n",
    "        \n",
    "        # Create and run the agent\n",
    "        agent = Agent(\n",
    "            task=task,\n",
    "            llm=bedrock_chat,\n",
    "            browser_session=browser_session\n",
    "        )\n",
    "        \n",
    "        # Run with progress indicator\n",
    "        with console.status(\"[bold green]Running browser automation...[/bold green]\", spinner=\"dots\"):\n",
    "            await agent.run()\n",
    "        \n",
    "        console.print(\"[bold green]✅ Task completed successfully![/bold green]\")\n",
    "        \n",
    "    except Exception as e:\n",
    "        console.print(f\"[bold red]❌ Error during task execution:[/bold red] {str(e)}\")\n",
    "        import traceback\n",
    "        if console.is_terminal:\n",
    "            traceback.print_exc()"
   ]
  },
  {
   "cell_type": "markdown",
   "id": "9b9f974e",
   "metadata": {},
   "source": [
    "## 5. Invoke the browser task using Browser-use profile\n",
    "Create a persistent browser session using CDP WebSocket connection and initialize Bedrock Claude model for automated web tasks. Handle session lifecycle with proper cleanup and execute browser automation tasks via AI-driven commands."
   ]
  },
  {
   "cell_type": "code",
   "execution_count": null,
   "id": "5b3706b7",
   "metadata": {},
   "outputs": [],
   "source": [
    "# Create persistent browser session and model\n",
    "browser_session = None\n",
    "bedrock_chat = None\n",
    "\n",
    "try:\n",
    "    # Create browser profile with headers\n",
    "    browser_profile = BrowserProfile(\n",
    "        headers=headers,\n",
    "        timeout=1500000,  # 150 seconds timeout\n",
    "    )\n",
    "    \n",
    "    # Create a browser session with CDP URL and keep_alive=True for persistence\n",
    "    browser_session = BrowserSession(\n",
    "        cdp_url=ws_url,\n",
    "        browser_profile=browser_profile,\n",
    "        keep_alive=True  # Keep browser alive between tasks\n",
    "    )\n",
    "    \n",
    "    # Initialize the browser session\n",
    "    console.print(\"[cyan]🔄 Initializing browser session...[/cyan]\")\n",
    "    await browser_session.start()\n",
    "    \n",
    "    # Create ChatBedrockConverse once\n",
    "    bedrock_chat = ChatBedrockConverse(\n",
    "        model_id=\"anthropic.claude-3-5-sonnet-20240620-v1:0\",\n",
    "        region_name=\"us-west-2\"\n",
    "    )\n",
    "    \n",
    "    console.print(\"[green]✅ Browser session initialized and ready for tasks[/green]\\n\")\n",
    "\n",
    "    task = \"Search for a coffee maker on amazon.com and extract details of the first one\"\n",
    "\n",
    "    await run_browser_task(browser_session, bedrock_chat, task)\n",
    "\n",
    "finally:\n",
    "    # Close the browser session\n",
    "    if browser_session:\n",
    "        console.print(\"\\n[yellow]🔌 Closing browser session...[/yellow]\")\n",
    "        with suppress(Exception):\n",
    "            await browser_session.close()\n",
    "        console.print(\"[green]✅ Browser session closed[/green]\")\n"
   ]
  },
  {
   "cell_type": "markdown",
   "id": "c6597132",
   "metadata": {},
   "source": [
    "## 6. Cleanup\n",
    "Stop the browser session if it hasn't been"
   ]
  },
  {
   "cell_type": "code",
   "execution_count": null,
   "id": "99a79405",
   "metadata": {},
   "outputs": [],
   "source": [
    "client.stop()\n",
    "print(\"Browser session stopped successfully!\")"
   ]
  }
 ],
 "metadata": {
  "kernelspec": {
   "display_name": "agentcore-test2",
   "language": "python",
   "name": "python3"
  },
  "language_info": {
   "codemirror_mode": {
    "name": "ipython",
    "version": 3
   },
   "file_extension": ".py",
   "mimetype": "text/x-python",
   "name": "python",
   "nbconvert_exporter": "python",
   "pygments_lexer": "ipython3",
   "version": "3.11.13"
  }
 },
 "nbformat": 4,
 "nbformat_minor": 5
}
