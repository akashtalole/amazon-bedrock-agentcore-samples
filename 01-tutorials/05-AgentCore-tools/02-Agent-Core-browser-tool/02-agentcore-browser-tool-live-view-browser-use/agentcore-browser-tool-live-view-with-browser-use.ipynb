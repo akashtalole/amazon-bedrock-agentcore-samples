{
 "cells": [
  {
   "cell_type": "markdown",
   "id": "c6430ac3",
   "metadata": {},
   "source": [
    "## Amazon Bedrock Agentcore Browser tool tutorial for live view, take control and record/replay\n",
    "\n",
    "\n",
    "This tutorial demonstrates how to use AgentCore Bedrock Browser to:\n",
    "1. Create a BrowserClient with a session\n",
    "2. Use Browser Use agent to drive the browser actions using natural language\n",
    "3. View the session live, take control for human actions on the browser, record the session and replay the session\n",
    "\n",
    "\n",
    "## Prerequisites\n",
    "- AWS account with Bedrock AgentCore Browser tool access\n",
    "- You have the necessary IAM permissions to create and manage browser tool resources\n",
    "- Required Python packages installed(including boto3 & bedrock-agentcore)\n",
    "- browser-use sdk installed\n",
    "\n",
    "\n",
    "## Your IAM execution role should have the following IAM policy attached"
   ]
  },
  {
   "cell_type": "markdown",
   "id": "bf6a5285",
   "metadata": {},
   "source": [
    "~~~ {\n",
    "    \"Version\": \"2012-10-17\",\n",
    "    \"Statement\": [\n",
    "        {\n",
    "            \"Effect\": \"Allow\",\n",
    "            \"Action\": [\n",
    "                \"bedrock-agentcore:CreateBrowser\",\n",
    "                \"bedrock-agentcore:StartBrowserSession\",\n",
    "                \"bedrock-agentcore:InvokeBrowser\",\n",
    "                \"bedrock-agentcore:StopBrowserSession\",\n",
    "                \"bedrock-agentcore:ListBrowsers\",\n",
    "                \"bedrock-agentcore:GetBrowser\"\n",
    "            ],\n",
    "            \"Resource\": \"*\"\n",
    "        },\n",
    "        {\n",
    "            \"Effect\": \"Allow\",\n",
    "            \"Action\": [\n",
    "                \"logs:CreateLogGroup\",\n",
    "                \"logs:CreateLogStream\",\n",
    "                \"logs:PutLogEvents\"\n",
    "            ],\n",
    "            \"Resource\": \"arn:aws:logs:*:*:log-group:/aws/bedrock-agentcore/browser*\"\n",
    "        }\n",
    "    ]\n",
    "}"
   ]
  },
  {
   "cell_type": "markdown",
   "id": "1212a355",
   "metadata": {},
   "source": [
    "## How it works\n",
    "\n",
    "A browser tool sandbox is a secure execution environment that enables AI agents to safely interact with web browsers. When a user makes a request, the Large Language Model (LLM) selects appropriate tools and translates commands. These commands are executed within a controlled sandbox environment containing a headless browser and hosted library server (using tools like Playwright). The sandbox provides isolation and security by containing web interactions within a restricted space, preventing unauthorized system access. The agent receives feedback through screenshots and can perform automated tasks while maintaining system security. \n",
    "\n",
    "![architecture local](../images//browser-tool.png)"
   ]
  },
  {
   "cell_type": "markdown",
   "id": "564f8445",
   "metadata": {},
   "source": [
    "## 1. Setting Up the Environment\n",
    "\n",
    "First, let's install and import the necessary libraries to initiaize the browser tool sandbox client. "
   ]
  },
  {
   "cell_type": "code",
   "execution_count": null,
   "id": "714f2462",
   "metadata": {},
   "outputs": [],
   "source": [
    "%pip install \"browser-use<0.3.3\" ## Need this version to over come this bug: \n",
    "%pip install langchain_aws\n",
    "%pip install \"fastapi>=0.109.0\"\n",
    "%pip install \"uvicorn>=0.27.0\"\n",
    "%pip install \"rich>=13.0.0\"\n",
    "%pip install \"langgraph>=0.1.0\""
   ]
  },
  {
   "cell_type": "markdown",
   "id": "e5102bae",
   "metadata": {},
   "source": [
    "## Option 1: Live view, take control and record on AWS console \n",
    "You have 2 options to view the browser session live, take control when needed and record replay. First option is to do this on the console. "
   ]
  },
  {
   "cell_type": "markdown",
   "id": "087eae78",
   "metadata": {},
   "source": [
    "## Option 2: Live view, take control and record via code\n",
    "2nd option is to view the browser live on your local browser that connects to the remote browser via Amazon DCV SDK. "
   ]
  },
  {
   "cell_type": "code",
   "execution_count": null,
   "id": "a89f7eab",
   "metadata": {},
   "outputs": [],
   "source": [
    "from bedrock_agentcore.tools.browser_client import BrowserClient\n",
    "from browser_use import Agent\n",
    "from browser_use.browser.session import BrowserSession\n",
    "from browser_use.browser import BrowserProfile\n",
    "from langchain_aws import ChatBedrockConverse\n",
    "from rich.console import Console\n",
    "from contextlib import suppress\n",
    "from interactive_tools.live_view_sessionreplay import browser_interactive_session\n",
    "import time \n",
    "import asyncio"
   ]
  },
  {
   "cell_type": "code",
   "execution_count": null,
   "id": "dad07098",
   "metadata": {},
   "outputs": [],
   "source": [
    "console = Console()"
   ]
  },
  {
   "cell_type": "code",
   "execution_count": null,
   "id": "929f8064",
   "metadata": {},
   "outputs": [],
   "source": [
    "async def run_browser_task(browser_session: BrowserSession, bedrock_chat: ChatBedrockConverse, task: str) -> None:\n",
    "    \"\"\"\n",
    "    Run a browser automation task using browser_use\n",
    "    \n",
    "    Args:\n",
    "        browser_session: Existing browser session to reuse\n",
    "        bedrock_chat: Bedrock chat model instance\n",
    "        task: Natural language task for the agent\n",
    "    \"\"\"\n",
    "    try:\n",
    "        # Show task execution\n",
    "        console.print(f\"\\n[bold blue]🤖 Executing task:[/bold blue] {task}\")\n",
    "        \n",
    "        # Create and run the agent\n",
    "        agent = Agent(\n",
    "            task=task,\n",
    "            llm=bedrock_chat,\n",
    "            browser_session=browser_session\n",
    "        )\n",
    "        \n",
    "        # Run with progress indicator\n",
    "        with console.status(\"[bold green]Running browser automation...[/bold green]\", spinner=\"dots\"):\n",
    "            await agent.run()\n",
    "        \n",
    "        console.print(\"[bold green]✅ Task completed successfully![/bold green]\")\n",
    "        \n",
    "    except Exception as e:\n",
    "        console.print(f\"[bold red]❌ Error during task execution:[/bold red] {str(e)}\")\n",
    "        import traceback\n",
    "        if console.is_terminal:\n",
    "            traceback.print_exc()"
   ]
  },
  {
   "cell_type": "code",
   "execution_count": null,
   "id": "8f1a5382",
   "metadata": {},
   "outputs": [],
   "source": [
    "try:\n",
    "    # Step 1: Create browser with recording\n",
    "    console.print(\"\\n📝 Step 1: Creating browser with recording enabled...\")\n",
    "    browser_client, s3_location = browser_interactive_session.create_browser_with_recording()\n",
    "\n",
    "    # Step 2: Live viewer with control\n",
    "    console.print(\"\\n👁️  Step 2: Starting live viewer...\")\n",
    "    browser_interactive_session.run_live_viewer_with_control(browser_client)\n",
    "\n",
    "    ws_url, headers = browser_client.generate_ws_headers()\n",
    "\n",
    "    # Step 3: Send instructions to browserUse agent \n",
    "    try:\n",
    "        # Create browser profile with headers\n",
    "        browser_profile = BrowserProfile(\n",
    "            headers=headers,\n",
    "            timeout=1500000,  # 150 seconds timeout\n",
    "        )\n",
    "        \n",
    "        # Create a browser session with CDP URL and keep_alive=True for persistence\n",
    "        browser_session = BrowserSession(\n",
    "            cdp_url=ws_url,\n",
    "            browser_profile=browser_profile,\n",
    "            keep_alive=True  # Keep browser alive between tasks\n",
    "        )\n",
    "        \n",
    "        # Initialize the browser session\n",
    "        console.print(\"[cyan]🔄 Initializing browser session...[/cyan]\")\n",
    "        await browser_session.start()\n",
    "        \n",
    "        # Create ChatBedrockConverse once\n",
    "        bedrock_chat = ChatBedrockConverse(\n",
    "            model_id=\"anthropic.claude-3-5-sonnet-20240620-v1:0\",\n",
    "            region_name=\"us-west-2\"\n",
    "        )\n",
    "\n",
    "        console.print(\"[green]✅ Browser session initialized and ready for tasks[/green]\\n\")\n",
    "\n",
    "        task = \"Search for a coffee maker on amazon.com and extract details of the first one\"\n",
    "\n",
    "        await run_browser_task(browser_session, bedrock_chat, task)\n",
    "\n",
    "    finally:\n",
    "        # Close the browser session\n",
    "        if browser_session:\n",
    "            console.print(\"\\n[yellow]🔌 Closing browser session...[/yellow]\")\n",
    "            with suppress(Exception):\n",
    "                await browser_session.close()\n",
    "            console.print(\"[green]✅ Browser session closed[/green]\")\n",
    "\n",
    "    # Step 4: Make sure session is properly stopped to ensure recordings are uploaded\n",
    "    console.print(\"\\n⏹️  Stopping browser session...\")\n",
    "    browser_client.stop()\n",
    "    console.print(\"✅ Browser session stopped\")\n",
    "\n",
    "    # Step 5: View recordings\n",
    "    console.print(\"\\n🎬 Step 5: Viewing recordings...\")\n",
    "    browser_interactive_session.view_recordings(s3_location)\n",
    "\n",
    "except Exception as e:\n",
    "    console.print(f\"\\n❌ Error: {e}\")\n",
    "    import traceback\n",
    "\n",
    "    traceback.print_exc()\n",
    "\n",
    "    \n",
    "        \n",
    "\n"
   ]
  }
 ],
 "metadata": {
  "kernelspec": {
   "display_name": "agentcore-test2",
   "language": "python",
   "name": "python3"
  },
  "language_info": {
   "codemirror_mode": {
    "name": "ipython",
    "version": 3
   },
   "file_extension": ".py",
   "mimetype": "text/x-python",
   "name": "python",
   "nbconvert_exporter": "python",
   "pygments_lexer": "ipython3",
   "version": "3.11.13"
  }
 },
 "nbformat": 4,
 "nbformat_minor": 5
}
