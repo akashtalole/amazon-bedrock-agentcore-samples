{
 "cells": [
  {
   "cell_type": "markdown",
   "metadata": {},
   "source": [
    "# Hosting Semantic Kernel Agents with Amazon Bedrock models in Amazon Bedrock AgentCore Runtime\n",
    "\n",
    "## Overview\n",
    "\n",
    "In this tutorial we will learn how to host your existing agent, using Amazon Bedrock AgentCore Runtime. \n",
    "\n",
    "We will focus on a Semantic Kernel agent with Amazon Bedrock model example. For other framework examples, check:\n",
    "- [Strands Agents with Amazon Bedrock model](../01-strands-with-bedrock-model)\n",
    "- [LangGraph with Amazon Bedrock model](../02-langgraph-with-bedrock-model)\n",
    "- [Strands Agents with OpenAI model](../03-strands-with-openai-model)\n",
    "- [CrewAI with Amazon Bedrock model](../04-crewai-with-bedrock-model)\n",
    "\n",
    "### Tutorial Details\n",
    "\n",
    "| Information         | Details                                                                               |\n",
    "|:--------------------|:--------------------------------------------------------------------------------------|\n",
    "| Tutorial type       | Conversational                                                                        |\n",
    "| Agent type          | Single                                                                                |\n",
    "| Agentic Framework   | Semantic Kernel                                                                       |\n",
    "| LLM model           | Anthropic Claude Sonnet 3                                                             |\n",
    "| Tutorial components | Hosting agent on AgentCore Runtime. Using Semantic Kernel and Amazon Bedrock Model    |\n",
    "| Tutorial vertical   | Cross-vertical                                                                        |\n",
    "| Example complexity  | Easy                                                                                  |\n",
    "| SDK used            | Amazon BedrockAgentCore Python SDK and boto3                                          |\n",
    "\n",
    "### Tutorial Architecture\n",
    "\n",
    "In this tutorial we will describe how to deploy an existing agent to AgentCore runtime. \n",
    "\n",
    "For demonstration purposes, we will use a Semantic Kernel agent using Amazon Bedrock models\n",
    "\n",
    "In our example we will use a very simple agent with three tools: `calculator`, `weather`, and `get_time`. \n",
    "\n",
    "<div style=\"text-align:left\">\n",
    "    <img src=\"images/architecture_runtime.png\" width=\"50%\"/>\n",
    "</div>\n",
    "\n",
    "### Tutorial Key Features\n",
    "\n",
    "* Hosting Agents on Amazon Bedrock AgentCore Runtime\n",
    "* Using Amazon Bedrock models\n",
    "* Using Microsoft Semantic Kernel framework\n",
    "* Function calling with custom plugins"
   ]
  },
  {
   "cell_type": "markdown",
   "metadata": {},
   "source": [
    "## Prerequisites\n",
    "\n",
    "To execute this tutorial you will need:\n",
    "* Python 3.10+\n",
    "* AWS credentials\n",
    "* Amazon Bedrock AgentCore SDK\n",
    "* Semantic Kernel\n",
    "* Docker running"
   ]
  },
  {
   "cell_type": "code",
   "metadata": {
    "ExecuteTime": {
     "end_time": "2025-08-05T04:10:37.919631Z",
     "start_time": "2025-08-05T04:10:37.917300Z"
    }
   },
   "source": [
    "#!uv add -r requirements.txt --active"
   ],
   "outputs": [],
   "execution_count": 1
  },
  {
   "metadata": {
    "ExecuteTime": {
     "end_time": "2025-08-05T04:10:45.644379Z",
     "start_time": "2025-08-05T04:10:45.640679Z"
    }
   },
   "cell_type": "code",
   "source": "print(\"hello\")",
   "outputs": [
    {
     "name": "stdout",
     "output_type": "stream",
     "text": [
      "hello\n"
     ]
    }
   ],
   "execution_count": 2
  },
  {
   "cell_type": "markdown",
   "metadata": {},
   "source": [
    "## Creating your agents and experimenting locally\n",
    "\n",
    "Before we deploy our agents to AgentCore Runtime, let's develop and run them locally for experimentation purposes.\n",
    "\n",
    "For production agentic applications we will need to decouple the agent creation process from the agent invocation one. With AgentCore Runtime, we will decorate the invocation part of our agent with the `@app.entrypoint` decorator and have it as the entry point for our runtime. Let's first look how each agent is developed during the experimentation phase.\n",
    "\n",
    "The architecture here will look as following:\n",
    "\n",
    "<div style=\"text-align:left\">\n",
    "    <img src=\"images/architecture_local.png\" width=\"50%\"/>\n",
    "</div>"
   ]
  },
  {
   "cell_type": "code",
   "metadata": {
    "ExecuteTime": {
     "end_time": "2025-08-05T04:10:49.951294Z",
     "start_time": "2025-08-05T04:10:49.943392Z"
    }
   },
   "source": [
    "%%writefile semantic_kernel_bedrock.py\n",
    "import asyncio\n",
    "import json\n",
    "import math\n",
    "import operator\n",
    "from datetime import datetime\n",
    "from typing import Annotated\n",
    "from semantic_kernel import Kernel\n",
    "from semantic_kernel.connectors.ai.bedrock.services.bedrock_chat_completion import BedrockChatCompletion\n",
    "from semantic_kernel.connectors.ai.bedrock.bedrock_prompt_execution_settings import BedrockChatPromptExecutionSettings\n",
    "from semantic_kernel.functions import kernel_function\n",
    "from semantic_kernel.contents import ChatHistory\n",
    "from semantic_kernel.connectors.ai.chat_completion_client_base import ChatCompletionClientBase\n",
    "from semantic_kernel.connectors.ai.function_choice_behavior import FunctionChoiceBehavior\n",
    "import argparse\n",
    "\n",
    "class UtilsPlugin:\n",
    "    \"\"\"A plugin providing calculator and weather tools\"\"\"\n",
    "    \n",
    "    @kernel_function(\n",
    "        name=\"calculator\",\n",
    "        description=\"Calculate the result of a mathematical expression\"\n",
    "    )\n",
    "    def calculator(\n",
    "        self,\n",
    "        expression: Annotated[str, \"A mathematical expression like '2+2' or 'sqrt(16)'\"]\n",
    "    ) -> str:\n",
    "        \"\"\"Calculate the result of a mathematical expression.\"\"\"\n",
    "        try:\n",
    "            # Define safe functions that can be used in expressions\n",
    "            safe_dict = {\n",
    "                \"__builtins__\": {},\n",
    "                \"abs\": abs, \"round\": round, \"min\": min, \"max\": max,\n",
    "                \"sum\": sum, \"pow\": pow,\n",
    "                # Math functions\n",
    "                \"sqrt\": math.sqrt, \"sin\": math.sin, \"cos\": math.cos, \"tan\": math.tan,\n",
    "                \"log\": math.log, \"log10\": math.log10, \"exp\": math.exp,\n",
    "                \"pi\": math.pi, \"e\": math.e,\n",
    "                \"ceil\": math.ceil, \"floor\": math.floor,\n",
    "                \"degrees\": math.degrees, \"radians\": math.radians,\n",
    "            }\n",
    "            \n",
    "            # Evaluate the expression safely\n",
    "            result = eval(expression, safe_dict)\n",
    "            return str(result)\n",
    "            \n",
    "        except Exception as e:\n",
    "            return f\"Error: {str(e)}\"\n",
    "    \n",
    "    @kernel_function(\n",
    "        name=\"weather\",\n",
    "        description=\"Get the current weather (dummy implementation)\"\n",
    "    )\n",
    "    def weather(self) -> str:\n",
    "        \"\"\"Get weather - dummy implementation that always returns sunny\"\"\"\n",
    "        return \"sunny\"\n",
    "    \n",
    "    @kernel_function(\n",
    "        name=\"get_time\",\n",
    "        description=\"Get the current time\"\n",
    "    )\n",
    "    def get_time(self) -> str:\n",
    "        \"\"\"Get the current time\"\"\"\n",
    "        return datetime.now().strftime(\"%Y-%m-%d %H:%M:%S\")\n",
    "\n",
    "# Create and configure the agent\n",
    "def create_agent():\n",
    "    \"\"\"Create and configure the Semantic Kernel agent\"\"\"\n",
    "    # Initialize the kernel\n",
    "    kernel = Kernel()\n",
    "    \n",
    "    # Add Bedrock as the chat completion service\n",
    "    chat_service = BedrockChatCompletion(\n",
    "        model_id=\"us.anthropic.claude-3-sonnet-20240229-v1:0\"\n",
    "    )\n",
    "    kernel.add_service(chat_service)\n",
    "    \n",
    "    # Add the utilities plugin\n",
    "    kernel.add_plugin(UtilsPlugin(), plugin_name=\"Utils\")\n",
    "    \n",
    "    return kernel\n",
    "\n",
    "# Initialize the agent\n",
    "kernel = create_agent()\n",
    "\n",
    "def semantic_kernel_bedrock(payload):\n",
    "    \"\"\"Invoke the agent with a payload\"\"\"\n",
    "    user_input = payload.get(\"prompt\")\n",
    "    return asyncio.run(invoke_agent(user_input))\n",
    "\n",
    "async def invoke_agent(user_input: str) -> str:\n",
    "    \"\"\"Async function to invoke the agent\"\"\"\n",
    "    # Get the chat completion service\n",
    "    chat_completion = kernel.get_service(type=ChatCompletionClientBase)\n",
    "    \n",
    "    # Configure execution settings with function calling\n",
    "    execution_settings = BedrockChatPromptExecutionSettings()\n",
    "    execution_settings.function_choice_behavior = FunctionChoiceBehavior.Auto()\n",
    "    \n",
    "    # Create chat history\n",
    "    history = ChatHistory()\n",
    "    history.add_system_message(\n",
    "        \"You're a helpful assistant. You can do simple math calculations, \"\n",
    "        \"tell the weather, and get the current time.\"\n",
    "    )\n",
    "    history.add_user_message(user_input)\n",
    "    \n",
    "    # Get response from the model\n",
    "    response = await chat_completion.get_chat_message_content(\n",
    "        chat_history=history,\n",
    "        settings=execution_settings,\n",
    "        kernel=kernel,\n",
    "    )\n",
    "    \n",
    "    return response.content\n",
    "\n",
    "if __name__ == \"__main__\":\n",
    "    parser = argparse.ArgumentParser()\n",
    "    parser.add_argument(\"payload\", type=str)\n",
    "    args = parser.parse_args()\n",
    "    response = semantic_kernel_bedrock(json.loads(args.payload))\n",
    "    print(response)"
   ],
   "outputs": [
    {
     "name": "stdout",
     "output_type": "stream",
     "text": [
      "Overwriting semantic_kernel_bedrock.py\n"
     ]
    }
   ],
   "execution_count": 3
  },
  {
   "cell_type": "markdown",
   "metadata": {},
   "source": [
    "#### Invoking local agent"
   ]
  },
  {
   "cell_type": "code",
   "metadata": {
    "ExecuteTime": {
     "end_time": "2025-08-05T04:11:14.003661Z",
     "start_time": "2025-08-05T04:11:08.712631Z"
    }
   },
   "source": [
    "!python semantic_kernel_bedrock.py '{\"prompt\": \"What is the weather now?\"}'"
   ],
   "outputs": [
    {
     "name": "stdout",
     "output_type": "stream",
     "text": [
      "The weather tool is just providing a dummy response, but it indicates sunny weather right now.\r\n"
     ]
    }
   ],
   "execution_count": 4
  },
  {
   "cell_type": "code",
   "metadata": {
    "ExecuteTime": {
     "end_time": "2025-08-05T04:12:21.756118Z",
     "start_time": "2025-08-05T04:12:16.627511Z"
    }
   },
   "source": [
    "!python semantic_kernel_bedrock.py '{\"prompt\": \"What is 15 * 23?\"}'"
   ],
   "outputs": [
    {
     "name": "stdout",
     "output_type": "stream",
     "text": [
      "The result of 15 * 23 is 345.\r\n"
     ]
    }
   ],
   "execution_count": 5
  },
  {
   "cell_type": "code",
   "metadata": {
    "ExecuteTime": {
     "end_time": "2025-08-05T04:12:30.059160Z",
     "start_time": "2025-08-05T04:12:24.783187Z"
    }
   },
   "source": [
    "!python semantic_kernel_bedrock.py '{\"prompt\": \"What time is it?\"}'"
   ],
   "outputs": [
    {
     "name": "stdout",
     "output_type": "stream",
     "text": [
      "The current time is 12:12 AM.\r\n"
     ]
    }
   ],
   "execution_count": 6
  },
  {
   "cell_type": "markdown",
   "metadata": {},
   "source": [
    "## Preparing your agent for deployment on AgentCore Runtime\n",
    "\n",
    "Let's now deploy our agents to AgentCore Runtime. To do so we need to:\n",
    "* Import the Runtime App with `from bedrock_agentcore.runtime import BedrockAgentCoreApp`\n",
    "* Initialize the App in our code with `app = BedrockAgentCoreApp()`\n",
    "* Decorate the invocation function with the `@app.entrypoint` decorator\n",
    "* Let AgentCoreRuntime control the running of the agent with `app.run()`\n",
    "\n",
    "### Semantic Kernel with Amazon Bedrock model\n",
    "Let's update our Semantic Kernel agent to work with AgentCore Runtime:"
   ]
  },
  {
   "cell_type": "code",
   "metadata": {
    "ExecuteTime": {
     "end_time": "2025-08-05T04:12:32.252406Z",
     "start_time": "2025-08-05T04:12:32.245571Z"
    }
   },
   "source": [
    "%%writefile semantic_kernel_bedrock.py\n",
    "import asyncio\n",
    "import json\n",
    "import math\n",
    "import operator\n",
    "from datetime import datetime\n",
    "from typing import Annotated\n",
    "from semantic_kernel import Kernel\n",
    "from semantic_kernel.connectors.ai.bedrock.services.bedrock_chat_completion import BedrockChatCompletion\n",
    "from semantic_kernel.connectors.ai.bedrock.bedrock_prompt_execution_settings import BedrockChatPromptExecutionSettings\n",
    "from semantic_kernel.functions import kernel_function\n",
    "from semantic_kernel.contents import ChatHistory\n",
    "from semantic_kernel.connectors.ai.chat_completion_client_base import ChatCompletionClientBase\n",
    "from semantic_kernel.connectors.ai.function_choice_behavior import FunctionChoiceBehavior\n",
    "from bedrock_agentcore.runtime import BedrockAgentCoreApp\n",
    "\n",
    "app = BedrockAgentCoreApp()\n",
    "\n",
    "class UtilsPlugin:\n",
    "    \"\"\"A plugin providing calculator and weather tools\"\"\"\n",
    "    \n",
    "    @kernel_function(\n",
    "        name=\"calculator\",\n",
    "        description=\"Calculate the result of a mathematical expression\"\n",
    "    )\n",
    "    def calculator(\n",
    "        self,\n",
    "        expression: Annotated[str, \"A mathematical expression like '2+2' or 'sqrt(16)'\"]\n",
    "    ) -> str:\n",
    "        \"\"\"Calculate the result of a mathematical expression.\"\"\"\n",
    "        try:\n",
    "            # Define safe functions that can be used in expressions\n",
    "            safe_dict = {\n",
    "                \"__builtins__\": {},\n",
    "                \"abs\": abs, \"round\": round, \"min\": min, \"max\": max,\n",
    "                \"sum\": sum, \"pow\": pow,\n",
    "                # Math functions\n",
    "                \"sqrt\": math.sqrt, \"sin\": math.sin, \"cos\": math.cos, \"tan\": math.tan,\n",
    "                \"log\": math.log, \"log10\": math.log10, \"exp\": math.exp,\n",
    "                \"pi\": math.pi, \"e\": math.e,\n",
    "                \"ceil\": math.ceil, \"floor\": math.floor,\n",
    "                \"degrees\": math.degrees, \"radians\": math.radians,\n",
    "            }\n",
    "            \n",
    "            # Evaluate the expression safely\n",
    "            result = eval(expression, safe_dict)\n",
    "            return str(result)\n",
    "            \n",
    "        except Exception as e:\n",
    "            return f\"Error: {str(e)}\"\n",
    "    \n",
    "    @kernel_function(\n",
    "        name=\"weather\",\n",
    "        description=\"Get the current weather (dummy implementation)\"\n",
    "    )\n",
    "    def weather(self) -> str:\n",
    "        \"\"\"Get weather - dummy implementation that always returns sunny\"\"\"\n",
    "        return \"sunny\"\n",
    "    \n",
    "    @kernel_function(\n",
    "        name=\"get_time\",\n",
    "        description=\"Get the current time\"\n",
    "    )\n",
    "    def get_time(self) -> str:\n",
    "        \"\"\"Get the current time\"\"\"\n",
    "        return datetime.now().strftime(\"%Y-%m-%d %H:%M:%S\")\n",
    "\n",
    "# Create and configure the agent\n",
    "def create_agent():\n",
    "    \"\"\"Create and configure the Semantic Kernel agent\"\"\"\n",
    "    # Initialize the kernel\n",
    "    kernel = Kernel()\n",
    "    \n",
    "    # Add Bedrock as the chat completion service\n",
    "    chat_service = BedrockChatCompletion(\n",
    "        model_id=\"us.anthropic.claude-3-sonnet-20240229-v1:0\"\n",
    "    )\n",
    "    kernel.add_service(chat_service)\n",
    "    \n",
    "    # Add the utilities plugin\n",
    "    kernel.add_plugin(UtilsPlugin(), plugin_name=\"Utils\")\n",
    "    \n",
    "    return kernel\n",
    "\n",
    "# Initialize the agent\n",
    "kernel = create_agent()\n",
    "\n",
    "@app.entrypoint\n",
    "def semantic_kernel_bedrock(payload):\n",
    "    \"\"\"Invoke the agent with a payload\"\"\"\n",
    "    user_input = payload.get(\"prompt\")\n",
    "    print(\"User input:\", user_input)\n",
    "    return asyncio.run(invoke_agent(user_input))\n",
    "\n",
    "async def invoke_agent(user_input: str) -> str:\n",
    "    \"\"\"Async function to invoke the agent\"\"\"\n",
    "    # Get the chat completion service\n",
    "    chat_completion = kernel.get_service(type=ChatCompletionClientBase)\n",
    "    \n",
    "    # Configure execution settings with function calling\n",
    "    execution_settings = BedrockChatPromptExecutionSettings()\n",
    "    execution_settings.function_choice_behavior = FunctionChoiceBehavior.Auto()\n",
    "    \n",
    "    # Create chat history\n",
    "    history = ChatHistory()\n",
    "    history.add_system_message(\n",
    "        \"You're a helpful assistant. You can do simple math calculations, \"\n",
    "        \"tell the weather, and get the current time.\"\n",
    "    )\n",
    "    history.add_user_message(user_input)\n",
    "    \n",
    "    # Get response from the model\n",
    "    response = await chat_completion.get_chat_message_content(\n",
    "        chat_history=history,\n",
    "        settings=execution_settings,\n",
    "        kernel=kernel,\n",
    "    )\n",
    "    \n",
    "    return response.content\n",
    "\n",
    "if __name__ == \"__main__\":\n",
    "    app.run()"
   ],
   "outputs": [
    {
     "name": "stdout",
     "output_type": "stream",
     "text": [
      "Overwriting semantic_kernel_bedrock.py\n"
     ]
    }
   ],
   "execution_count": 7
  },
  {
   "cell_type": "markdown",
   "metadata": {},
   "source": [
    "## What happens behind the scenes?\n",
    "\n",
    "When you use `BedrockAgentCoreApp`, it automatically:\n",
    "\n",
    "* Creates an HTTP server that listens on the port 8080\n",
    "* Implements the required `/invocations` endpoint for processing the agent's requirements\n",
    "* Implements the `/ping` endpoint for health checks (very important for asynchronous agents)\n",
    "* Handles proper content types and response formats\n",
    "* Manages error handling according to the AWS standards"
   ]
  },
  {
   "cell_type": "markdown",
   "metadata": {},
   "source": [
    "## Deploying the agent to AgentCore Runtime\n",
    "\n",
    "The `CreateAgentRuntime` operation supports comprehensive configuration options, letting you specify container images, environment variables and encryption settings. You can also configure protocol settings (HTTP, MCP) and authorization mechanisms to control how your clients communicate with the agent. \n",
    "\n",
    "**Note:** Operations best practice is to package code as container and push to ECR using CI/CD pipelines and IaC\n",
    "\n",
    "In this tutorial we will use the Amazon Bedrock AgentCore Python SDK to easily package your artifacts and deploy them to AgentCore runtime."
   ]
  },
  {
   "cell_type": "markdown",
   "metadata": {},
   "source": [
    "### Creating runtime role\n",
    "\n",
    "Before starting, let's create an IAM role for our AgentCore Runtime. We will do so using the utils function pre-developed for you."
   ]
  },
  {
   "cell_type": "code",
   "metadata": {
    "ExecuteTime": {
     "end_time": "2025-08-05T04:15:59.575348Z",
     "start_time": "2025-08-05T04:15:48.757023Z"
    }
   },
   "source": [
    "import sys\n",
    "import os\n",
    "\n",
    "# Get the current notebook's directory\n",
    "current_dir = os.path.dirname(os.path.abspath('__file__' if '__file__' in globals() else '.'))\n",
    "\n",
    "utils_dir = os.path.join(current_dir, '..')\n",
    "utils_dir = os.path.join(utils_dir, '..')\n",
    "utils_dir = os.path.abspath(utils_dir)\n",
    "\n",
    "# Add to sys.path\n",
    "sys.path.insert(0, utils_dir)\n",
    "print(\"sys.path[0]:\", sys.path[0])\n",
    "\n",
    "from utils import create_agentcore_role\n",
    "\n",
    "agent_name=\"agentcore_semantic_kernel\"\n",
    "agentcore_iam_role = create_agentcore_role(agent_name=agent_name)"
   ],
   "outputs": [
    {
     "name": "stdout",
     "output_type": "stream",
     "text": [
      "sys.path[0]: /Users/claumazz/PycharmProjects/amazon-bedrock-agentcore-samples/01-tutorials\n",
      "attaching role policy agentcore-agentcore_semantic_kernel-role\n"
     ]
    }
   ],
   "execution_count": 8
  },
  {
   "cell_type": "markdown",
   "metadata": {},
   "source": [
    "### Configure AgentCore Runtime deployment\n",
    "\n",
    "Next we will use our starter toolkit to configure the AgentCore Runtime deployment with an entrypoint, the execution role we just created and a requirements file. We will also configure the starter kit to auto create the Amazon ECR repository on launch.\n",
    "\n",
    "During the configure step, your docker file will be generated based on your application code\n",
    "\n",
    "<div style=\"text-align:left\">\n",
    "    <img src=\"images/configure.png\" width=\"60%\"/>\n",
    "</div>"
   ]
  },
  {
   "cell_type": "code",
   "metadata": {
    "ExecuteTime": {
     "end_time": "2025-08-05T04:18:20.854477Z",
     "start_time": "2025-08-05T04:18:20.676611Z"
    }
   },
   "source": [
    "from bedrock_agentcore_starter_toolkit import Runtime\n",
    "from boto3.session import Session\n",
    "boto_session = Session()\n",
    "region = boto_session.region_name\n",
    "region\n",
    "\n",
    "agentcore_runtime = Runtime()\n",
    "\n",
    "response = agentcore_runtime.configure(\n",
    "    entrypoint=\"semantic_kernel_bedrock.py\",\n",
    "    execution_role=agentcore_iam_role['Role']['Arn'],\n",
    "    auto_create_ecr=True,\n",
    "    requirements_file=\"requirements.txt\",\n",
    "    region=region,\n",
    "    agent_name=agent_name\n",
    ")\n",
    "response"
   ],
   "outputs": [
    {
     "name": "stderr",
     "output_type": "stream",
     "text": [
      "Bedrock AgentCore configured: /Users/claumazz/PycharmProjects/amazon-bedrock-agentcore-samples/01-tutorials/01-AgentCore-runtime/01-hosting-agent/05-semantic-kernel-with-bedrock-model/.bedrock_agentcore.yaml\n"
     ]
    },
    {
     "data": {
      "text/plain": [
       "ConfigureResult(config_path=PosixPath('/Users/claumazz/PycharmProjects/amazon-bedrock-agentcore-samples/01-tutorials/01-AgentCore-runtime/01-hosting-agent/05-semantic-kernel-with-bedrock-model/.bedrock_agentcore.yaml'), dockerfile_path=PosixPath('/Users/claumazz/PycharmProjects/amazon-bedrock-agentcore-samples/01-tutorials/01-AgentCore-runtime/01-hosting-agent/05-semantic-kernel-with-bedrock-model/Dockerfile'), dockerignore_path=PosixPath('/Users/claumazz/PycharmProjects/amazon-bedrock-agentcore-samples/01-tutorials/01-AgentCore-runtime/01-hosting-agent/05-semantic-kernel-with-bedrock-model/.dockerignore'), runtime='Docker', region='us-east-1', account_id='686255965275', execution_role='arn:aws:iam::686255965275:role/agentcore-agentcore_semantic_kernel-role', ecr_repository=None, auto_create_ecr=True)"
      ]
     },
     "execution_count": 14,
     "metadata": {},
     "output_type": "execute_result"
    }
   ],
   "execution_count": 14
  },
  {
   "cell_type": "markdown",
   "metadata": {},
   "source": [
    "### Launching agent to AgentCore Runtime\n",
    "\n",
    "Now that we've got a docker file, let's launch the agent to the AgentCore Runtime. This will create the Amazon ECR repository and the AgentCore Runtime\n",
    "\n",
    "<div style=\"text-align:left\">\n",
    "    <img src=\"images/launch.png\" width=\"75%\"/>\n",
    "</div>"
   ]
  },
  {
   "cell_type": "code",
   "metadata": {
    "ExecuteTime": {
     "end_time": "2025-08-05T04:22:21.133033Z",
     "start_time": "2025-08-05T04:18:22.996348Z"
    }
   },
   "source": [
    "launch_result = agentcore_runtime.launch()"
   ],
   "outputs": [
    {
     "name": "stdout",
     "output_type": "stream",
     "text": [
      "The push refers to repository [686255965275.dkr.ecr.us-east-1.amazonaws.com/bedrock_agentcore-agentcore_semantic_kernel]\n",
      "27b1542b9257: Waiting\n",
      "84bb154987a1: Waiting\n",
      "b3407f3b5b5b: Waiting\n",
      "c7ced59943c6: Waiting\n",
      "b5b8c27c1e67: Waiting\n",
      "046e0ba021a5: Waiting\n",
      "64bd21e63ff7: Waiting\n",
      "94fa42b5194c: Waiting\n",
      "823b52aff6ed: Waiting\n",
      "b4270a851ef2: Waiting\n",
      "84bb154987a1: Waiting\n",
      "b3407f3b5b5b: Waiting\n",
      "c7ced59943c6: Waiting\n",
      "b5b8c27c1e67: Waiting\n",
      "27b1542b9257: Waiting\n",
      "64bd21e63ff7: Waiting\n",
      "94fa42b5194c: Waiting\n",
      "823b52aff6ed: Waiting\n",
      "b4270a851ef2: Waiting\n",
      "046e0ba021a5: Waiting\n",
      "64bd21e63ff7: Waiting\n",
      "94fa42b5194c: Waiting\n",
      "823b52aff6ed: Waiting\n",
      "b4270a851ef2: Waiting\n",
      "046e0ba021a5: Waiting\n",
      "84bb154987a1: Waiting\n",
      "b3407f3b5b5b: Waiting\n",
      "c7ced59943c6: Waiting\n",
      "b5b8c27c1e67: Waiting\n",
      "27b1542b9257: Waiting\n",
      "84bb154987a1: Pushed\n",
      "64bd21e63ff7: Pushed\n",
      "94fa42b5194c: Pushed\n",
      "823b52aff6ed: Pushed\n",
      "b4270a851ef2: Pushed\n",
      "b5b8c27c1e67: Pushed\n",
      "27b1542b9257: Pushed\n",
      "046e0ba021a5: Pushed\n",
      "b3407f3b5b5b: Pushed\n",
      "c7ced59943c6: Pushed\n",
      "latest: digest: sha256:c162d6c490b504ecc34ba8d06c973f2392c6df419c0410f52bb1a9b57330ec77 size: 856\n"
     ]
    },
    {
     "name": "stderr",
     "output_type": "stream",
     "text": [
      "Deployed to cloud: arn:aws:bedrock-agentcore:us-east-1:686255965275:runtime/agentcore_semantic_kernel-znCs468wCI\n",
      "🔍 Agent logs available at:\n",
      "   /aws/bedrock-agentcore/runtimes/agentcore_semantic_kernel-znCs468wCI-DEFAULT\n",
      "   /aws/bedrock-agentcore/runtimes/agentcore_semantic_kernel-znCs468wCI-DEFAULT/runtime-logs\n",
      "💡 Tail logs with: aws logs tail /aws/bedrock-agentcore/runtimes/agentcore_semantic_kernel-znCs468wCI-DEFAULT --follow\n",
      "💡 Or view recent logs: aws logs tail /aws/bedrock-agentcore/runtimes/agentcore_semantic_kernel-znCs468wCI-DEFAULT --since 1h\n"
     ]
    }
   ],
   "execution_count": 15
  },
  {
   "cell_type": "markdown",
   "metadata": {},
   "source": [
    "### Checking for the AgentCore Runtime Status\n",
    "Now that we've deployed the AgentCore Runtime, let's check for it's deployment status"
   ]
  },
  {
   "cell_type": "code",
   "metadata": {
    "ExecuteTime": {
     "end_time": "2025-08-05T04:23:16.973246Z",
     "start_time": "2025-08-05T04:23:16.144772Z"
    }
   },
   "source": [
    "import time\n",
    "\n",
    "status_response = agentcore_runtime.status()\n",
    "status = status_response.endpoint['status']\n",
    "end_status = ['READY', 'CREATE_FAILED', 'DELETE_FAILED', 'UPDATE_FAILED']\n",
    "while status not in end_status:\n",
    "    time.sleep(10)\n",
    "    status_response = agentcore_runtime.status()\n",
    "    status = status_response.endpoint['status']\n",
    "    print(status)\n",
    "status"
   ],
   "outputs": [
    {
     "name": "stderr",
     "output_type": "stream",
     "text": [
      "Retrieved Bedrock AgentCore status for: agentcore_semantic_kernel\n"
     ]
    },
    {
     "data": {
      "text/plain": [
       "'READY'"
      ]
     },
     "execution_count": 16,
     "metadata": {},
     "output_type": "execute_result"
    }
   ],
   "execution_count": 16
  },
  {
   "cell_type": "markdown",
   "metadata": {},
   "source": [
    "### Invoking AgentCore Runtime\n",
    "\n",
    "Finally, we can invoke our AgentCore Runtime with a payload\n",
    "\n",
    "<div style=\"text-align:left\">\n",
    "    <img src=\"images/invoke.png\" width=75%\"/>\n",
    "</div>"
   ]
  },
  {
   "cell_type": "code",
   "metadata": {
    "ExecuteTime": {
     "end_time": "2025-08-05T04:23:22.091768Z",
     "start_time": "2025-08-05T04:23:19.582633Z"
    }
   },
   "source": [
    "invoke_response = agentcore_runtime.invoke({\"prompt\": \"How is the weather now?\"})\n",
    "invoke_response"
   ],
   "outputs": [
    {
     "data": {
      "text/plain": [
       "{'ResponseMetadata': {'RequestId': '2486eb1a-63e7-46e3-a19d-1d94180670ad',\n",
       "  'HTTPStatusCode': 200,\n",
       "  'HTTPHeaders': {'date': 'Tue, 05 Aug 2025 04:23:22 GMT',\n",
       "   'content-type': 'application/json',\n",
       "   'transfer-encoding': 'chunked',\n",
       "   'connection': 'keep-alive',\n",
       "   'x-amzn-requestid': '2486eb1a-63e7-46e3-a19d-1d94180670ad',\n",
       "   'baggage': 'Self=1-68918737-1109137958536fa23b6f3336,session.id=7ee2ed9f-b69b-4fc8-b0cc-7661d565a94c',\n",
       "   'x-amzn-bedrock-agentcore-runtime-session-id': '7ee2ed9f-b69b-4fc8-b0cc-7661d565a94c',\n",
       "   'x-amzn-trace-id': 'Root=1-68918737-66367e66351a06965da7dd00;Self=1-68918737-1109137958536fa23b6f3336'},\n",
       "  'RetryAttempts': 0},\n",
       " 'runtimeSessionId': '7ee2ed9f-b69b-4fc8-b0cc-7661d565a94c',\n",
       " 'traceId': 'Root=1-68918737-66367e66351a06965da7dd00;Self=1-68918737-1109137958536fa23b6f3336',\n",
       " 'baggage': 'Self=1-68918737-1109137958536fa23b6f3336,session.id=7ee2ed9f-b69b-4fc8-b0cc-7661d565a94c',\n",
       " 'contentType': 'application/json',\n",
       " 'statusCode': 200,\n",
       " 'response': [b'\"The current weather is sunny.\"']}"
      ]
     },
     "execution_count": 17,
     "metadata": {},
     "output_type": "execute_result"
    }
   ],
   "execution_count": 17
  },
  {
   "cell_type": "code",
   "metadata": {
    "ExecuteTime": {
     "end_time": "2025-08-05T04:26:32.383230Z",
     "start_time": "2025-08-05T04:26:28.141453Z"
    }
   },
   "source": [
    "invoke_response = agentcore_runtime.invoke({\"prompt\": \"What is sqrt(144)?\"})\n",
    "invoke_response"
   ],
   "outputs": [
    {
     "data": {
      "text/plain": [
       "{'ResponseMetadata': {'RequestId': 'e5c0b93b-ceef-460b-8ee4-d00c859bef28',\n",
       "  'HTTPStatusCode': 200,\n",
       "  'HTTPHeaders': {'date': 'Tue, 05 Aug 2025 04:26:32 GMT',\n",
       "   'content-type': 'application/json',\n",
       "   'transfer-encoding': 'chunked',\n",
       "   'connection': 'keep-alive',\n",
       "   'x-amzn-requestid': 'e5c0b93b-ceef-460b-8ee4-d00c859bef28',\n",
       "   'baggage': 'Self=1-689187f4-7960c6cc6b4e66233d854361,session.id=7ee2ed9f-b69b-4fc8-b0cc-7661d565a94c',\n",
       "   'x-amzn-bedrock-agentcore-runtime-session-id': '7ee2ed9f-b69b-4fc8-b0cc-7661d565a94c',\n",
       "   'x-amzn-trace-id': 'Root=1-689187f4-7166e3444bf5d3271389aef2;Self=1-689187f4-7960c6cc6b4e66233d854361'},\n",
       "  'RetryAttempts': 0},\n",
       " 'runtimeSessionId': '7ee2ed9f-b69b-4fc8-b0cc-7661d565a94c',\n",
       " 'traceId': 'Root=1-689187f4-7166e3444bf5d3271389aef2;Self=1-689187f4-7960c6cc6b4e66233d854361',\n",
       " 'baggage': 'Self=1-689187f4-7960c6cc6b4e66233d854361,session.id=7ee2ed9f-b69b-4fc8-b0cc-7661d565a94c',\n",
       " 'contentType': 'application/json',\n",
       " 'statusCode': 200,\n",
       " 'response': [b'\"The square root of 144 is 12.\"']}"
      ]
     },
     "execution_count": 18,
     "metadata": {},
     "output_type": "execute_result"
    }
   ],
   "execution_count": 18
  },
  {
   "cell_type": "code",
   "metadata": {
    "ExecuteTime": {
     "end_time": "2025-08-05T04:26:37.465490Z",
     "start_time": "2025-08-05T04:26:35.378277Z"
    }
   },
   "source": [
    "invoke_response = agentcore_runtime.invoke({\"prompt\": \"What time is it right now?\"})\n",
    "invoke_response"
   ],
   "outputs": [
    {
     "data": {
      "text/plain": [
       "{'ResponseMetadata': {'RequestId': 'dde32448-8ea7-4c4c-9899-3e425dad7331',\n",
       "  'HTTPStatusCode': 200,\n",
       "  'HTTPHeaders': {'date': 'Tue, 05 Aug 2025 04:26:37 GMT',\n",
       "   'content-type': 'application/json',\n",
       "   'transfer-encoding': 'chunked',\n",
       "   'connection': 'keep-alive',\n",
       "   'x-amzn-requestid': 'dde32448-8ea7-4c4c-9899-3e425dad7331',\n",
       "   'baggage': 'Self=1-689187fb-04f104da50462bfc4c58e6d3,session.id=7ee2ed9f-b69b-4fc8-b0cc-7661d565a94c',\n",
       "   'x-amzn-bedrock-agentcore-runtime-session-id': '7ee2ed9f-b69b-4fc8-b0cc-7661d565a94c',\n",
       "   'x-amzn-trace-id': 'Root=1-689187fb-5f339050243247ae650bb359;Self=1-689187fb-04f104da50462bfc4c58e6d3'},\n",
       "  'RetryAttempts': 0},\n",
       " 'runtimeSessionId': '7ee2ed9f-b69b-4fc8-b0cc-7661d565a94c',\n",
       " 'traceId': 'Root=1-689187fb-5f339050243247ae650bb359;Self=1-689187fb-04f104da50462bfc4c58e6d3',\n",
       " 'baggage': 'Self=1-689187fb-04f104da50462bfc4c58e6d3,session.id=7ee2ed9f-b69b-4fc8-b0cc-7661d565a94c',\n",
       " 'contentType': 'application/json',\n",
       " 'statusCode': 200,\n",
       " 'response': [b'\"The current time is 4:26 AM on August 5th, 2025.\"']}"
      ]
     },
     "execution_count": 19,
     "metadata": {},
     "output_type": "execute_result"
    }
   ],
   "execution_count": 19
  },
  {
   "cell_type": "markdown",
   "metadata": {},
   "source": [
    "### Processing invocation results\n",
    "\n",
    "We can now process our invocation results to include it in an application"
   ]
  },
  {
   "cell_type": "code",
   "metadata": {
    "ExecuteTime": {
     "end_time": "2025-08-05T04:26:49.504397Z",
     "start_time": "2025-08-05T04:26:49.496623Z"
    }
   },
   "source": [
    "from IPython.display import Markdown, display\n",
    "import json\n",
    "response_text = json.loads(invoke_response['response'][0].decode(\"utf-8\"))\n",
    "display(Markdown(response_text))"
   ],
   "outputs": [
    {
     "data": {
      "text/plain": [
       "<IPython.core.display.Markdown object>"
      ],
      "text/markdown": "The current time is 4:26 AM on August 5th, 2025."
     },
     "metadata": {},
     "output_type": "display_data"
    }
   ],
   "execution_count": 21
  },
  {
   "cell_type": "markdown",
   "metadata": {},
   "source": [
    "### Invoking AgentCore Runtime with boto3\n",
    "\n",
    "Now that your AgentCore Runtime was created you can invoke it with any AWS SDK. For instance, you can use the boto3 `invoke_agent_runtime` method for it."
   ]
  },
  {
   "cell_type": "code",
   "metadata": {
    "ExecuteTime": {
     "end_time": "2025-08-05T04:26:57.511852Z",
     "start_time": "2025-08-05T04:26:55.099844Z"
    }
   },
   "source": [
    "import boto3\n",
    "agent_arn = launch_result.agent_arn\n",
    "agentcore_client = boto3.client(\n",
    "    'bedrock-agentcore',\n",
    "    region_name=region\n",
    ")\n",
    "\n",
    "boto3_response = agentcore_client.invoke_agent_runtime(\n",
    "    agentRuntimeArn=agent_arn,\n",
    "    qualifier=\"DEFAULT\",\n",
    "    payload=json.dumps({\"prompt\": \"What is 25 * 4?\"})\n",
    ")\n",
    "if \"text/event-stream\" in boto3_response.get(\"contentType\", \"\"):\n",
    "    content = []\n",
    "    for line in boto3_response[\"response\"].iter_lines(chunk_size=1):\n",
    "        if line:\n",
    "            line = line.decode(\"utf-8\")\n",
    "            if line.startswith(\"data: \"):\n",
    "                line = line[6:]\n",
    "                logger.info(line)\n",
    "                content.append(line)\n",
    "    display(Markdown(\"\\n\".join(content)))\n",
    "else:\n",
    "    try:\n",
    "        events = []\n",
    "        for event in boto3_response.get(\"response\", []):\n",
    "            events.append(event)\n",
    "    except Exception as e:\n",
    "        events = [f\"Error reading EventStream: {e}\"]\n",
    "    display(Markdown(json.loads(events[0].decode(\"utf-8\"))))"
   ],
   "outputs": [
    {
     "data": {
      "text/plain": [
       "<IPython.core.display.Markdown object>"
      ],
      "text/markdown": "The result of the calculation 25 * 4 is 100."
     },
     "metadata": {},
     "output_type": "display_data"
    }
   ],
   "execution_count": 22
  },
  {
   "cell_type": "markdown",
   "metadata": {},
   "source": [
    "## Cleanup (Optional)\n",
    "\n",
    "Let's now clean up the AgentCore Runtime created"
   ]
  },
  {
   "cell_type": "code",
   "metadata": {
    "ExecuteTime": {
     "end_time": "2025-08-05T04:27:07.233975Z",
     "start_time": "2025-08-05T04:27:07.226793Z"
    }
   },
   "source": [
    "launch_result.ecr_uri, launch_result.agent_id, launch_result.ecr_uri.split('/')[1]"
   ],
   "outputs": [
    {
     "data": {
      "text/plain": [
       "('686255965275.dkr.ecr.us-east-1.amazonaws.com/bedrock_agentcore-agentcore_semantic_kernel',\n",
       " 'agentcore_semantic_kernel-znCs468wCI',\n",
       " 'bedrock_agentcore-agentcore_semantic_kernel')"
      ]
     },
     "execution_count": 23,
     "metadata": {},
     "output_type": "execute_result"
    }
   ],
   "execution_count": 23
  },
  {
   "cell_type": "code",
   "metadata": {
    "ExecuteTime": {
     "end_time": "2025-08-05T04:27:11.253662Z",
     "start_time": "2025-08-05T04:27:10.295101Z"
    }
   },
   "source": [
    "agentcore_control_client = boto3.client(\n",
    "    'bedrock-agentcore-control',\n",
    "    region_name=region\n",
    ")\n",
    "ecr_client = boto3.client(\n",
    "    'ecr',\n",
    "    region_name=region\n",
    "    \n",
    ")\n",
    "\n",
    "iam_client = boto3.client('iam')\n",
    "\n",
    "runtime_delete_response = agentcore_control_client.delete_agent_runtime(\n",
    "    agentRuntimeId=launch_result.agent_id,\n",
    "    \n",
    ")\n",
    "\n",
    "response = ecr_client.delete_repository(\n",
    "    repositoryName=launch_result.ecr_uri.split('/')[1],\n",
    "    force=True\n",
    ")\n",
    "\n",
    "policies = iam_client.list_role_policies(\n",
    "    RoleName=agentcore_iam_role['Role']['RoleName'],\n",
    "    MaxItems=100\n",
    ")\n",
    "\n",
    "for policy_name in policies['PolicyNames']:\n",
    "    iam_client.delete_role_policy(\n",
    "        RoleName=agentcore_iam_role['Role']['RoleName'],\n",
    "        PolicyName=policy_name\n",
    "    )\n",
    "iam_response = iam_client.delete_role(\n",
    "    RoleName=agentcore_iam_role['Role']['RoleName']\n",
    ")"
   ],
   "outputs": [],
   "execution_count": 24
  },
  {
   "cell_type": "markdown",
   "metadata": {},
   "source": [
    "# Congratulations!\n",
    "\n",
    "You have successfully deployed a Semantic Kernel agent with Amazon Bedrock models to Amazon Bedrock AgentCore Runtime!\n",
    "\n",
    "## What you learned:\n",
    "- How to create a Semantic Kernel agent with custom plugins\n",
    "- How to use function calling with Semantic Kernel and Amazon Bedrock\n",
    "- How to deploy your agent to AgentCore Runtime\n",
    "- How to invoke your deployed agent using both the toolkit and boto3\n",
    "\n",
    "## Next steps:\n",
    "- Try adding more sophisticated plugins to your agent\n",
    "- Explore using different Amazon Bedrock models\n",
    "- Learn about other AgentCore capabilities like Memory, Gateway, and Tools"
   ]
  },
  {
   "metadata": {},
   "cell_type": "code",
   "outputs": [],
   "execution_count": null,
   "source": ""
  }
 ],
 "metadata": {
  "kernelspec": {
   "display_name": "Python 3",
   "language": "python",
   "name": "python3"
  },
  "language_info": {
   "codemirror_mode": {
    "name": "ipython",
    "version": 3
   },
   "file_extension": ".py",
   "mimetype": "text/x-python",
   "name": "python",
   "nbconvert_exporter": "python",
   "pygments_lexer": "ipython3",
   "version": "3.10.0"
  }
 },
 "nbformat": 4,
 "nbformat_minor": 4
}
