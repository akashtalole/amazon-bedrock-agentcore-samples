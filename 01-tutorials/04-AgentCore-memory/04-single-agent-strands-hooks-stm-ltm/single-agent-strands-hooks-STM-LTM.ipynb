{
 "cells": [
  {
   "cell_type": "markdown",
   "id": "overview",
   "metadata": {},
   "source": [
    "# Strands Agent with AgentCore Memory Tutorial using Hooks\n",
    "\n",
    "## Overview\n",
    "\n",
    "This tutorial demonstrates how to build an intelligent personal assistant using Strands agents integrated with AgentCore Memory through hooks. The agent maintains conversation context and learns from interactions to provide personalized responses.\n",
    "\n",
    "## Tutorial Details\n",
    "\n",
    "**Use Case**: Personal Assistant with Memory\n",
    "\n",
    "You'll learn to:\n",
    "- Set up AgentCore Memory with conversation summaries\n",
    "- Create memory hooks for automatic storage and retrieval\n",
    "- Build a Strands agent with persistent memory\n",
    "- Test memory functionality across conversations\n",
    "\n",
    "## Tutorial Architecture\n",
    "\n",
    "![architecture](architecture.png)\n",
    "\n",
    "## Tutorial Key Features\n",
    "\n",
    "- **Automatic Memory Storage**: Conversations are automatically saved\n",
    "- **Context Retrieval**: Previous conversations inform current responses\n",
    "- **Summary Generation**: Key information is extracted and summarized\n",
    "- **Tool Integration**: Calculator tool for mathematical operations\n",
    "\n",
    "## Prerequisites\n",
    "\n",
    "- AWS account with appropriate permissions\n",
    "- AgentCore Memory role ARN configured\n",
    "- Python environment with required packages"
   ]
  },
  {
   "cell_type": "markdown",
   "id": "setup",
   "metadata": {},
   "source": [
    "## Step-by-Step Tutorial"
   ]
  },
  {
   "cell_type": "markdown",
   "id": "917e6ed5-ca98-4a5a-a569-3a1ab68998e5",
   "metadata": {},
   "source": [
    "### Step 1: Environment set up\n",
    "Let's begin importing all the necessary libraries and defining the clients to make this notebook work."
   ]
  },
  {
   "cell_type": "code",
   "execution_count": 2,
   "id": "404db75f-614e-4152-af9a-5b28afb56e33",
   "metadata": {},
   "outputs": [
    {
     "name": "stdout",
     "output_type": "stream",
     "text": [
      "\u001b[31mERROR: pip's dependency resolver does not currently take into account all the packages that are installed. This behaviour is the source of the following dependency conflicts.\n",
      "awscli 1.40.37 requires botocore==1.38.38, but you have botocore 1.39.5 which is incompatible.\n",
      "fastapi 0.115.13 requires starlette<0.47.0,>=0.40.0, but you have starlette 0.47.1 which is incompatible.\n",
      "safety-schemas 0.0.14 requires pydantic<2.10.0,>=2.6.0, but you have pydantic 2.11.7 which is incompatible.\u001b[0m\u001b[31m\n",
      "\u001b[0m"
     ]
    }
   ],
   "source": [
    "!pip install -qr requirements.txt"
   ]
  },
  {
   "cell_type": "code",
   "execution_count": 4,
   "id": "0a2e1911-a9fa-4578-868b-a22bff8ab298",
   "metadata": {},
   "outputs": [],
   "source": [
    "from BedrockAgentcore.memory import MemoryClient\n",
    "from BedrockAgentcore.memory.constants import StrategyType"
   ]
  },
  {
   "cell_type": "code",
   "execution_count": 5,
   "id": "imports",
   "metadata": {},
   "outputs": [],
   "source": [
    "import logging\n",
    "from strands import Agent\n",
    "from datetime import datetime\n",
    "from typing import Dict, List\n",
    "from strands_tools import calculator\n",
    "from strands.hooks.registry import HookProvider, HookRegistry\n",
    "from strands.hooks.events import MessageAddedEvent, AfterInvocationEvent\n",
    "\n",
    "\n",
    "# Setup logging\n",
    "logging.basicConfig(level=logging.INFO, format=\"%(asctime)s - %(levelname)s - %(message)s\")\n",
    "logger = logging.getLogger(\"memory-tutorial\")\n",
    "\n",
    "# Configuration - TBChanged\n",
    "REGION = \"us-west-2\"\n",
    "ROLE_ARN = \"<<INSERT-YOUR-IAM-ROLE>>\"\n",
    "ACTOR_ID = f\"actor-{datetime.now().strftime('%Y%m%d%H%M%S')}\"\n",
    "SESSION_ID = f\"tutorial-{datetime.now().strftime('%Y%m%d%H%M%S')}\""
   ]
  },
  {
   "cell_type": "markdown",
   "id": "step2-desc",
   "metadata": {},
   "source": [
    "### Step 2: Create Memory Resource\n",
    "\n",
    "In this step, we're creating our memory resource with a summary strategy. This resource will store and organize our conversation data. The strategy we're defining will automatically generate summaries of conversations and store them in organized namespaces."
   ]
  },
  {
   "cell_type": "code",
   "execution_count": 6,
   "id": "create_memory",
   "metadata": {},
   "outputs": [
    {
     "name": "stderr",
     "output_type": "stream",
     "text": [
      "2025-07-14 04:40:27,371 - INFO - Found credentials from IAM Role: BaseNotebookInstanceEc2InstanceRole\n",
      "2025-07-14 04:40:27,433 - INFO - Initialized MemoryClient for prod in us-west-2\n",
      "2025-07-14 04:40:28,179 - INFO - Created memory: TutorialMemory-t7bn1bCf1B\n",
      "2025-07-14 04:40:28,180 - INFO - Created memory TutorialMemory-t7bn1bCf1B, waiting for ACTIVE status...\n",
      "2025-07-14 04:43:13,896 - INFO - Memory TutorialMemory-t7bn1bCf1B is now ACTIVE (took 165 seconds)\n"
     ]
    },
    {
     "name": "stdout",
     "output_type": "stream",
     "text": [
      "✅ Created memory: TutorialMemory-t7bn1bCf1B\n"
     ]
    }
   ],
   "source": [
    "# Initialize Memory Client\n",
    "client = MemoryClient(region_name=REGION, environment=\"prod\")\n",
    "memory_name = \"TutorialMemory\"\n",
    "# Define memory strategy for conversation summaries\n",
    "strategies = [\n",
    "    {\n",
    "        StrategyType.SUMMARY.value: {\n",
    "            \"name\": \"conversation_summary\",\n",
    "            \"description\": \"Captures summaries of conversations\",\n",
    "            \"namespaces\": [\"summaries/{actorId}/{sessionId}\"]\n",
    "        }\n",
    "    }\n",
    "]\n",
    "\n",
    "# Create memory resource\n",
    "try:\n",
    "    memory = client.create_memory_and_wait(\n",
    "        name=memory_name,\n",
    "        strategies=strategies,\n",
    "        description=\"Memory for tutorial agent\",\n",
    "        event_expiry_days=30,\n",
    "        memory_execution_role_arn=ROLE_ARN,\n",
    "    )\n",
    "    memory_id = memory['memoryId']\n",
    "    print(f\"✅ Created memory: {memory_id}\")\n",
    "except Exception as e:\n",
    "    if \"already exists\" in str(e):\n",
    "        memories = client.list_memories()\n",
    "        memory_id = next((m['id'] for m in memories if m['name'] == memory_name), None)\n",
    "        print(f\"✅ Using existing memory: {memory_id}\")\n",
    "    else:\n",
    "        raise e"
   ]
  },
  {
   "cell_type": "markdown",
   "id": "step3-desc",
   "metadata": {},
   "source": [
    "### Step 3: Create Memory Hook Provider\n",
    "\n",
    "This step defines our custom `MemoryHookProvider` class that automates memory operations. Hooks are special functions that run at specific points in an agent's execution lifecycle. The memory hook we're creating serves two primary functions:\n",
    "\n",
    "1. **Retrieve Memories**: Automatically fetches relevant past conversations when a user sends a message\n",
    "2. **Save Memories**: Stores new conversations after the agent responds\n",
    "\n",
    "This creates a seamless memory experience without manual management."
   ]
  },
  {
   "cell_type": "code",
   "execution_count": null,
   "id": "memory_hooks",
   "metadata": {},
   "outputs": [],
   "source": [
    "class MemoryHookProvider(HookProvider):\n",
    "    \"\"\"Hook provider for automatic memory management\"\"\"\n",
    "    \n",
    "    def __init__(self, memory_id: str, client: MemoryClient, actor_id: str, session_id: str):\n",
    "        self.memory_id = memory_id\n",
    "        self.client = client\n",
    "        self.actor_id = actor_id\n",
    "        self.session_id = session_id\n",
    "        self.namespace = f\"summaries/{self.actor_id}/{self.session_id}\"\n",
    "    \n",
    "    def retrieve_memories(self, event: MessageAddedEvent):\n",
    "        \"\"\"Retrieve relevant memories before processing user message\"\"\"\n",
    "        messages = event.agent.messages\n",
    "        if messages[-1][\"role\"] == \"user\" and \"toolResult\" not in messages[-1][\"content\"][0]:\n",
    "            user_message = messages[-1][\"content\"][0][\"text\"]\n",
    "            \n",
    "            try:\n",
    "                # Retrieve relevant memories\n",
    "                memories = self.client.retrieve_memories(\n",
    "                    memory_id=self.memory_id,\n",
    "                    namespace=self.namespace,\n",
    "                    query=user_message\n",
    "                )\n",
    "                \n",
    "                # Extract memory content\n",
    "                memory_context = []\n",
    "                for memory in memories:\n",
    "                    if isinstance(memory, dict):\n",
    "                        content = memory.get('content', {})\n",
    "                        if isinstance(content, dict):\n",
    "                            text = content.get('text', '').strip()\n",
    "                            if text:\n",
    "                                memory_context.append(text)\n",
    "                \n",
    "                # Inject memories into user message\n",
    "                if memory_context:\n",
    "                    context_text = \"\\n\".join(memory_context)\n",
    "                    original_text = messages[-1][\"content\"][0][\"text\"]\n",
    "                    messages[-1][\"content\"][0][\"text\"] = (\n",
    "                        f\"{original_text}\\n\\nPrevious context: {context_text}\"\n",
    "                    )\n",
    "                    logger.info(f\"Retrieved {len(memory_context)} memories\")\n",
    "                    \n",
    "            except Exception as e:\n",
    "                logger.error(f\"Failed to retrieve memories: {e}\")\n",
    "    \n",
    "    def save_memories(self, event: AfterInvocationEvent):\n",
    "        \"\"\"Save conversation after agent response\"\"\"\n",
    "        try:\n",
    "            messages = event.agent.messages\n",
    "            if len(messages) >= 2:\n",
    "                # Get last user and assistant messages\n",
    "                user_msg = None\n",
    "                assistant_msg = None\n",
    "                \n",
    "                for msg in reversed(messages):\n",
    "                    if msg[\"role\"] == \"assistant\" and not assistant_msg:\n",
    "                        assistant_msg = msg[\"content\"][0][\"text\"]\n",
    "                    elif msg[\"role\"] == \"user\" and not user_msg and \"toolResult\" not in msg[\"content\"][0]:\n",
    "                        user_msg = msg[\"content\"][0][\"text\"]\n",
    "                        break\n",
    "                \n",
    "                if user_msg and assistant_msg:\n",
    "                    # Save conversation\n",
    "                    self.client.save_conversation(\n",
    "                        memory_id=self.memory_id,\n",
    "                        actor_id=self.actor_id,\n",
    "                        session_id=self.session_id,\n",
    "                        messages=[(user_msg, \"USER\"), (assistant_msg, \"ASSISTANT\")]\n",
    "                    )\n",
    "                    logger.info(\"Saved conversation to memory\")\n",
    "                    \n",
    "        except Exception as e:\n",
    "            logger.error(f\"Failed to save memories: {e}\")\n",
    "    \n",
    "    def register_hooks(self, registry: HookRegistry) -> None:\n",
    "        \"\"\"Register memory hooks\"\"\"\n",
    "        registry.add_callback(MessageAddedEvent, self.retrieve_memories)\n",
    "        registry.add_callback(AfterInvocationEvent, self.save_memories)\n",
    "        logger.info(\"Memory hooks registered\")"
   ]
  },
  {
   "cell_type": "markdown",
   "id": "step4-desc",
   "metadata": {},
   "source": [
    "### Step 4: Create Agent with Memory\n",
    "\n",
    "Now we're creating our Strands agent and connecting it with our memory hook provider. This agent will have two key capabilities:\n",
    "\n",
    "1. **Memory Integration**: The memory hooks we created will enable automatic context retrieval\n",
    "2. **Calculator Tool**: The agent can perform mathematical operations when needed\n",
    "\n",
    "This combination creates a personal assistant that both remembers past interactions and can perform useful calculations."
   ]
  },
  {
   "cell_type": "code",
   "execution_count": null,
   "id": "create_agent",
   "metadata": {},
   "outputs": [],
   "source": [
    "# Create memory hook provider\n",
    "memory_hooks = MemoryHookProvider(\n",
    "    memory_id=memory_id,\n",
    "    client=client,\n",
    "    actor_id=ACTOR_ID,\n",
    "    session_id=SESSION_ID\n",
    ")\n",
    "\n",
    "# Create agent with memory hooks and calculator tool\n",
    "agent = Agent(\n",
    "    hooks=[memory_hooks],\n",
    "    tools=[calculator],\n",
    "    system_prompt=\"You are a helpful personal math assistant.\"\n",
    ")\n",
    "\n",
    "print(\"✅ Agent created with memory hooks.\")"
   ]
  },
  {
   "cell_type": "markdown",
   "id": "step5-desc",
   "metadata": {},
   "source": [
    "### Step 5: Test Memory Functionality\n",
    "\n",
    "In this section, we'll test the agent's memory capabilities through a series of interactions. We'll observe how the agent builds context over time and recalls previous interactions.\n",
    "\n",
    "First, let's introduce ourselves to the agent and ask a math question:"
   ]
  },
  {
   "cell_type": "code",
   "execution_count": null,
   "id": "test1",
   "metadata": {},
   "outputs": [],
   "source": [
    "# First interaction - introduce yourself\n",
    "response1 = agent(\"Hi, I'm John and I love mathematics. What's 15 * 8?\")\n",
    "print(f\"Agent: {response1}\")"
   ]
  },
  {
   "cell_type": "markdown",
   "id": "test2-desc",
   "metadata": {},
   "source": [
    "Now, let's see if the agent remembers who we are:"
   ]
  },
  {
   "cell_type": "code",
   "execution_count": null,
   "id": "test2",
   "metadata": {},
   "outputs": [],
   "source": [
    "# Second interaction - test memory recall\n",
    "response2 = agent(\"What's my name and what do I like?\")\n",
    "print(f\"Agent: {response2}\")"
   ]
  },
  {
   "cell_type": "markdown",
   "id": "test3-desc",
   "metadata": {},
   "source": [
    "Let's give the agent another calculation task:"
   ]
  },
  {
   "cell_type": "code",
   "execution_count": null,
   "id": "test3",
   "metadata": {},
   "outputs": [],
   "source": [
    "# Third interaction - another calculation\n",
    "response3 = agent(\"Can you help me with 25 + 17?\")\n",
    "print(f\"Agent: {response3}\")"
   ]
  },
  {
   "cell_type": "markdown",
   "id": "test4-desc",
   "metadata": {},
   "source": [
    "Finally, let's check if the agent remembers our calculation history:"
   ]
  },
  {
   "cell_type": "code",
   "execution_count": null,
   "id": "test4",
   "metadata": {},
   "outputs": [],
   "source": [
    "# Fourth interaction - test context awareness\n",
    "response4 = agent(\"What calculations have we done together?\")\n",
    "print(f\"Agent: {response4}\")"
   ]
  },
  {
   "cell_type": "markdown",
   "id": "step6-desc",
   "metadata": {},
   "source": [
    "### Step 6: Verify Memory Storage\n",
    "\n",
    "As a final step, we'll verify that our conversations have been properly stored in AgentCore Memory. This demonstrates that the memory hooks are working correctly and the agent can access this information in future interactions."
   ]
  },
  {
   "cell_type": "code",
   "execution_count": null,
   "id": "verify_memory",
   "metadata": {},
   "outputs": [],
   "source": [
    "# Check stored memories\n",
    "try:\n",
    "    memories = client.retrieve_memories(\n",
    "        memory_id=memory_id,\n",
    "        namespace=f\"summaries/{ACTOR_ID}/{SESSION_ID}\",\n",
    "        query=\"mathematics calculations\"\n",
    "    )\n",
    "    \n",
    "    print(f\"\\n📚 Found {len(memories)} memories:\")\n",
    "    for i, memory in enumerate(memories, 1):\n",
    "        if isinstance(memory, dict):\n",
    "            content = memory.get('content', {})\n",
    "            if isinstance(content, dict):\n",
    "                text = content.get('text', '')[:200] + \"...\"\n",
    "                print(f\"{i}. {text}\")\n",
    "                \n",
    "except Exception as e:\n",
    "    print(f\"Error retrieving memories: {e}\")"
   ]
  },
  {
   "cell_type": "markdown",
   "id": "cleanup-desc",
   "metadata": {},
   "source": [
    "## Clean Up\n",
    "\n",
    "### Optional: Delete Memory Resource\n",
    "\n",
    "After completing the tutorial, you may want to delete the memory resource to avoid incurring unnecessary costs. The following code is provided for cleanup but is commented out by default."
   ]
  },
  {
   "cell_type": "code",
   "execution_count": null,
   "id": "cleanup_code",
   "metadata": {},
   "outputs": [],
   "source": [
    "# Uncomment to delete the memory resource\n",
    "# try:\n",
    "#     client.delete_memory(memory_id=memory_id)\n",
    "#     print(f\"✅ Deleted memory resource: {memory_id}\")\n",
    "# except Exception as e:\n",
    "#     print(f\"Error deleting memory: {e}\")\n",
    "\n",
    "print(\"Tutorial completed! 🎉\")\n",
    "print(\"\\nKey takeaways:\")\n",
    "print(\"- Memory hooks automatically store and retrieve conversation context\")\n",
    "print(\"- Agents can maintain state across multiple interactions\")\n",
    "print(\"- AgentCore Memory provides semantic search for relevant context\")\n",
    "print(\"- Tools can be combined with memory for enhanced functionality\")"
   ]
  },
  {
   "cell_type": "markdown",
   "id": "conclusion",
   "metadata": {},
   "source": [
    "This tutorial has demonstrated how to create an intelligent personal assistant with memory capabilities using Strands agents and AgentCore Memory. You've learned how to set up memory resources, create hooks for automatic memory management, and test the agent's ability to maintain context across multiple interactions."
   ]
  }
 ],
 "metadata": {
  "kernelspec": {
   "display_name": "conda_pytorch_p310",
   "language": "python",
   "name": "conda_pytorch_p310"
  },
  "language_info": {
   "codemirror_mode": {
    "name": "ipython",
    "version": 3
   },
   "file_extension": ".py",
   "mimetype": "text/x-python",
   "name": "python",
   "nbconvert_exporter": "python",
   "pygments_lexer": "ipython3",
   "version": "3.10.14"
  }
 },
 "nbformat": 4,
 "nbformat_minor": 5
}
