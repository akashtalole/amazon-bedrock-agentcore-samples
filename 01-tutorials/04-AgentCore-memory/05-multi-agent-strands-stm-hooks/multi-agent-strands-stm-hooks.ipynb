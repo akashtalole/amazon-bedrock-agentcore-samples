{
 "cells": [
  {
   "cell_type": "markdown",
   "id": "4a87f55f-9cb5-4aee-8d80-cd3b7935aa2d",
   "metadata": {},
   "source": [
    "# Multi Agent STM: Strands with AgentCore Memory Tool"
   ]
  },
  {
   "cell_type": "markdown",
   "id": "e1661265-84cd-4a1a-9a62-739c925af6ca",
   "metadata": {},
   "source": [
    "## Introduction\n",
    "\n",
    "This notebook demonstrates how to implement a **multi-agent system with shared memory** using AWS AgentCore Memory and the Strands framework. While our previous examples focused on single-agent memory, this notebook explores how multiple specialized agents can work together while accessing a common memory store.\n",
    "\n",
    "## What you will learn\n",
    "\n",
    "- How to set up a shared memory resource that multiple agents can access\n",
    "- Creating specialized agents as tools with their own memory access\n",
    "- Implementing a coordinator agent that delegates to specialized agents\n",
    "- Maintaining conversation context across multiple agent interactions\n",
    "\n",
    "## Scenario context\n",
    "\n",
    "In this example, we'll create a **Travel Planning System** with:\n",
    "1. A Flight Booking Assistant specialized in air travel\n",
    "2. A Hotel Booking Assistant focused on accommodations\n",
    "3. A Travel Coordinator that delegates to these specialized agents\n",
    "\n",
    "This approach demonstrates how complex domains can be broken down into specialized agents that share memory the same memory store.\n",
    "\n",
    "## Architecture\n",
    "\n",
    "![architecture](architecture.png)\n",
    "\n",
    "## Prerequisites\n",
    "- AWS account with appropriate permissions\n",
    "- AWS IAM role with appropriate permissions for AgentCore Memory\n",
    "- Access to Amazon Bedrock models\n",
    "\n",
    "Let's get started by setting up our environment and creating our shared memory resource!"
   ]
  },
  {
   "cell_type": "markdown",
   "id": "091a7ba3-0933-43a2-93b8-3379e73440c1",
   "metadata": {},
   "source": [
    "## Environment set up\n",
    "Let's begin importing all the necessary libraries and defining the clients to make this notebook work."
   ]
  },
  {
   "cell_type": "code",
   "execution_count": 6,
   "id": "0ea35f65-29ba-42e7-a756-7ab5b93a84ce",
   "metadata": {},
   "outputs": [
    {
     "name": "stdout",
     "output_type": "stream",
     "text": [
      "\u001b[31mERROR: pip's dependency resolver does not currently take into account all the packages that are installed. This behaviour is the source of the following dependency conflicts.\n",
      "awscli 1.40.37 requires botocore==1.38.38, but you have botocore 1.39.5 which is incompatible.\n",
      "fastapi 0.115.13 requires starlette<0.47.0,>=0.40.0, but you have starlette 0.47.1 which is incompatible.\n",
      "safety-schemas 0.0.14 requires pydantic<2.10.0,>=2.6.0, but you have pydantic 2.11.7 which is incompatible.\n",
      "sagemaker 2.247.0 requires importlib-metadata<7.0,>=1.4.0, but you have importlib-metadata 8.7.0 which is incompatible.\n",
      "sagemaker 2.247.0 requires packaging<25,>=23.0, but you have packaging 25.0 which is incompatible.\n",
      "sagemaker-core 1.0.38 requires importlib-metadata<7.0,>=1.4.0, but you have importlib-metadata 8.7.0 which is incompatible.\n",
      "sparkmagic 0.21.0 requires pandas<2.0.0,>=0.17.1, but you have pandas 2.2.3 which is incompatible.\n",
      "sphinx 8.1.3 requires docutils<0.22,>=0.20, but you have docutils 0.19 which is incompatible.\u001b[0m\u001b[31m\n",
      "\u001b[0m"
     ]
    }
   ],
   "source": [
    "!pip install -qr requirements.txt"
   ]
  },
  {
   "cell_type": "code",
   "execution_count": 7,
   "id": "f63a5236-2e64-4029-876c-87fe808ce0a8",
   "metadata": {},
   "outputs": [],
   "source": [
    "import os\n",
    "import sys\n",
    "import time\n",
    "import boto3\n",
    "import logging\n",
    "import time\n",
    "from datetime import datetime\n",
    "from typing import Dict, List\n",
    "from strands.hooks.registry import HookProvider, HookRegistry\n",
    "from strands.hooks.events import MessageAddedEvent, AfterInvocationEvent, AgentInitializedEvent"
   ]
  },
  {
   "cell_type": "markdown",
   "id": "bff35a0f-79bc-4d47-81d4-5a52f219e664",
   "metadata": {},
   "source": [
    "Define the region and the role with the appropiate permissions for Amazon Bedrock models and AgentCore"
   ]
  },
  {
   "cell_type": "code",
   "execution_count": 8,
   "id": "746a9e5c-0893-431a-9585-9e8bfb13fd52",
   "metadata": {},
   "outputs": [],
   "source": [
    "region = \"us-west-2\"\n",
    "role_arn = \"<<INSERT-YOUR-IAM-ROLE>>\"\n",
    "logging.basicConfig(level=logging.INFO, format=\"%(asctime)s - %(levelname)s - %(message)s\", datefmt=\"%Y-%m-%d %H:%M:%S\")\n",
    "logger = logging.getLogger(\"agentcore-memory\")"
   ]
  },
  {
   "cell_type": "markdown",
   "id": "ef644e57-9e6f-413d-9b26-5eeb775d7760",
   "metadata": {},
   "source": [
    "## Creating Shared Memory\n",
    "In this section, we'll create a memory resource that will be shared among our specialized agents."
   ]
  },
  {
   "cell_type": "code",
   "execution_count": 9,
   "id": "3be50b1e-e11b-43e4-8ba6-3c9d703110eb",
   "metadata": {},
   "outputs": [],
   "source": [
    "from BedrockAgentcore.memory import MemoryClient"
   ]
  },
  {
   "cell_type": "code",
   "execution_count": 10,
   "id": "99f7fd67-2e2d-4248-8353-b0c495f9fd93",
   "metadata": {},
   "outputs": [
    {
     "name": "stderr",
     "output_type": "stream",
     "text": [
      "2025-07-14 07:45:38 - INFO - Found credentials from IAM Role: BaseNotebookInstanceEc2InstanceRole\n",
      "2025-07-14 07:45:38 - INFO - Initialized MemoryClient for prod in us-west-2\n"
     ]
    }
   ],
   "source": [
    "client = MemoryClient(region_name=region)\n",
    "memory_name = \"TravelAgent_STM_%s\" % datetime.now().strftime(\"%Y%m%d%H%M%S\")\n",
    "memory_id = None"
   ]
  },
  {
   "cell_type": "code",
   "execution_count": 11,
   "id": "8f32d7a9-dcdd-4296-968c-94aa7f3a7c30",
   "metadata": {},
   "outputs": [
    {
     "name": "stdout",
     "output_type": "stream",
     "text": [
      "Creating Memory...\n"
     ]
    },
    {
     "name": "stderr",
     "output_type": "stream",
     "text": [
      "2025-07-14 07:45:49 - INFO - Created memory: TravelAgent_STM_20250714074538-TAnbKI4KoR\n",
      "2025-07-14 07:45:49 - INFO - Created memory TravelAgent_STM_20250714074538-TAnbKI4KoR, waiting for ACTIVE status...\n",
      "2025-07-14 07:45:49 - INFO - Memory TravelAgent_STM_20250714074538-TAnbKI4KoR is now ACTIVE (took 0 seconds)\n"
     ]
    },
    {
     "name": "stdout",
     "output_type": "stream",
     "text": [
      "Memory created successfully with ID: TravelAgent_STM_20250714074538-TAnbKI4KoR\n"
     ]
    }
   ],
   "source": [
    "try:\n",
    "    print(\"Creating Memory...\")\n",
    "    memory_name = memory_name\n",
    "\n",
    "    # Create the memory resource\n",
    "    memory = client.create_memory_and_wait(\n",
    "        name=memory_name,                       # Unique name for this memory store\n",
    "        description=\"Travel Agent STM\", # Human-readable description\n",
    "        strategies=[],                          # No special memory strategies for short-term memory\n",
    "        event_expiry_days=7,                    # Memories expire after 7 days\n",
    "        memory_execution_role_arn=role_arn,     # IAM role with permissions to manage memory\n",
    "        max_wait=300,                           # Maximum time to wait for memory creation (5 minutes)\n",
    "        poll_interval=10                        # Check status every 10 seconds\n",
    "    )\n",
    "\n",
    "    # Extract and print the memory ID\n",
    "    memory_id = memory['memoryId']\n",
    "    print(f\"Memory created successfully with ID: {memory_id}\")\n",
    "    \n",
    "except Exception as e:\n",
    "    # Handle any errors during memory creation\n",
    "    print(f\"❌ ERROR: {e}\")\n",
    "    import traceback\n",
    "    traceback.print_exc()\n",
    "\n",
    "    # Cleanup on error - delete the memory if it was partially created\n",
    "    if memory_id:\n",
    "        try:\n",
    "            client.gmcp_client.delete_memory(memoryId=memory_id)\n",
    "            print(f\"Cleaned up memory: {memory_id}\")\n",
    "        except Exception as cleanup_error:\n",
    "            print(f\"Failed to clean up memory: {cleanup_error}\")"
   ]
  },
  {
   "cell_type": "markdown",
   "id": "aa3fed1c-aa71-409b-9b37-2ee03b0aeeb5",
   "metadata": {},
   "source": [
    "### Understanding Shared Memory for Multi-Agent Systems\n",
    "\n",
    "The memory resource we've created will serve as a shared knowledge base for our travel planning system. All agents will read from and write to this common memory store, enabling:\n",
    "\n",
    "1. **Knowledge Consistency**: All agents work with the same information\n",
    "2. **Context Preservation**: Conversation history is maintained across agent transitions\n",
    "3. **Specialized Access**: Each agent will have its own actor_id but share the session_id\n",
    "\n",
    "This approach allows specialized agents to focus on their domains while still benefiting from the full conversation context."
   ]
  },
  {
   "cell_type": "markdown",
   "id": "5287c609-2117-41db-8ab4-5df5acdbf150",
   "metadata": {},
   "source": [
    "### Step 3: Create Memory Hook Provider\n",
    "\n",
    "This step defines our custom `MemoryHookProvider` class that automates memory operations. Hooks are special functions that run at specific points in an agent's execution lifecycle. The memory hook we're creating serves two primary functions:\n",
    "\n",
    "1. **Retrieve Memories**: Automatically fetches relevant past conversations when a user sends a message\n",
    "2. **Save Memories**: Stores new conversations after the agent responds\n",
    "\n",
    "This creates a seamless memory experience without manual management."
   ]
  },
  {
   "cell_type": "code",
   "execution_count": 39,
   "id": "371823d3-186c-4c99-ab78-9316e522afd3",
   "metadata": {},
   "outputs": [],
   "source": [
    "class ShortTermMemoryHook(HookProvider):\n",
    "    def __init__(self, memory_client: MemoryClient, memory_id: str, actor_id: str, session_id: str):\n",
    "        self.memory_client = memory_client\n",
    "        self.memory_id = memory_id\n",
    "        self.actor_id = actor_id\n",
    "        self.session_id = session_id\n",
    "    \n",
    "    def on_agent_initialized(self, event: AgentInitializedEvent):\n",
    "        \"\"\"Load recent conversation history when agent starts\"\"\"\n",
    "        try:\n",
    "            # Get last 5 conversation turns\n",
    "            recent_turns = self.memory_client.get_last_k_turns(\n",
    "                memory_id=self.memory_id,\n",
    "                actor_id=self.actor_id,\n",
    "                session_id=self.session_id,\n",
    "                k=5,\n",
    "                branch_name=\"main\"\n",
    "            )\n",
    "            \n",
    "            if recent_turns:\n",
    "                # Format conversation history for context\n",
    "                context_messages = []\n",
    "                for turn in recent_turns:\n",
    "                    for message in turn:\n",
    "                        role = message['role'].lower()\n",
    "                        content = message['content']['text']\n",
    "                        context_messages.append(f\"{role.title()}: {content}\")\n",
    "                \n",
    "                context = \"\\n\".join(context_messages)\n",
    "                logger.info(f\"Context from memory: {context}\")\n",
    "                \n",
    "                # Add context to agent's system prompt\n",
    "                event.agent.system_prompt += f\"\\n\\nRecent conversation history:\\n{context}\\n\\nContinue the conversation naturally based on this context.\"\n",
    "                \n",
    "                logger.info(f\"✅ Loaded {len(recent_turns)} recent conversation turns\")\n",
    "            else:\n",
    "                logger.info(\"No previous conversation history found\")\n",
    "                \n",
    "        except Exception as e:\n",
    "            logger.error(f\"Failed to load conversation history: {e}\")\n",
    "    \n",
    "    def on_message_added(self, event):\n",
    "        \"\"\"Store conversation turns in memory\"\"\"\n",
    "        try:\n",
    "            print(f\"message added ------- {event.message}\")\n",
    "            self.memory_client.save_conversation(\n",
    "                memory_id=self.memory_id,\n",
    "                actor_id=self.actor_id,\n",
    "                session_id=self.session_id,\n",
    "                messages=[(event.message[\"content\"][0][\"text\"], event.message[\"role\"])]\n",
    "            )\n",
    "            \n",
    "        except Exception as e:\n",
    "            logger.error(f\"Failed to store message: {e}\")\n",
    "    \n",
    "    def register_hooks(self, registry: HookRegistry) -> None:\n",
    "        # Create and register memory hook\n",
    "        registry.add_callback(MessageAddedEvent, self.on_message_added)\n",
    "        registry.add_callback(AgentInitializedEvent, self.on_agent_initialized)"
   ]
  },
  {
   "cell_type": "markdown",
   "id": "11313704-f182-423f-96d7-a64b4482c8aa",
   "metadata": {},
   "source": [
    "## Setting Up Multi-Agent Architecture with Strands Agents\n",
    "In this section, we'll create our multi-agent system with specialized agents for flight and hotel bookings, both sharing access to our memory resource."
   ]
  },
  {
   "cell_type": "code",
   "execution_count": 40,
   "id": "b1293c57-967a-4cba-ad18-a07e97358929",
   "metadata": {},
   "outputs": [],
   "source": [
    "# Create unique actor IDs for each specialized agent but share the session ID\n",
    "flight_actor_id = f\"flight-user-{datetime.now().strftime('%Y%m%d%H%M%S')}\"\n",
    "hotel_actor_id = f\"hotel-user-{datetime.now().strftime('%Y%m%d%H%M%S')}\"\n",
    "session_id = f\"travel-session-{datetime.now().strftime('%Y%m%d%H%M%S')}\"\n",
    "flight_namespace = f\"travel/{flight_actor_id}/preferences\"\n",
    "hotel_namespace = f\"travel/{hotel_actor_id}/preferences\""
   ]
  },
  {
   "cell_type": "code",
   "execution_count": 41,
   "id": "a288afca-e06e-48b2-b10b-9cb0465c9e23",
   "metadata": {},
   "outputs": [],
   "source": [
    "# Import the necessary components\n",
    "from strands import Agent, tool"
   ]
  },
  {
   "cell_type": "markdown",
   "id": "48f39b9d-4238-45e5-a8eb-98a8c450e65a",
   "metadata": {},
   "source": [
    "### Creating Specialized Agents with Memory Access\n",
    "\n",
    "Next, we'll define system prompts for our specialized agents. Each prompt includes the memory parameters in a format that the agent can parse:"
   ]
  },
  {
   "cell_type": "code",
   "execution_count": 42,
   "id": "bb748408-80cc-4f2a-8950-ed1523bec2aa",
   "metadata": {},
   "outputs": [],
   "source": [
    "# System prompt for the hotel booking specialist\n",
    "HOTEL_BOOKING_PROMPT = f\"\"\"You are a hotel booking assistant. Help customers find hotels, make reservations, and answer questions about accommodations and amenities. \n",
    "Provide clear information about availability, pricing, and booking procedures in a friendly, helpful manner.\"\"\"\n",
    "\n",
    "# System prompt for the flight booking specialist\n",
    "FLIGHT_BOOKING_PROMPT = f\"\"\"You are a flight booking assistant. Help customers find flights, make reservations, and answer questions about airlines, routes, and travel policies. \n",
    "Provide clear information about flight availability, pricing, schedules, and booking procedures in a friendly, helpful manner.\"\"\""
   ]
  },
  {
   "cell_type": "markdown",
   "id": "a42e6a49-dc31-48ae-b6ca-5e08266fd74a",
   "metadata": {},
   "source": [
    "### Implementing Agent Tools\n",
    "Now we'll implement our specialized agents as tools that can be used by the coordinator agent:"
   ]
  },
  {
   "cell_type": "code",
   "execution_count": 43,
   "id": "1f67ed8c-c15b-4e5a-a130-aa3ef165fc3f",
   "metadata": {},
   "outputs": [],
   "source": [
    "@tool\n",
    "def flight_booking_assistant(query: str) -> str:\n",
    "    \"\"\"\n",
    "    Process and respond to flight booking queries.\n",
    "\n",
    "    Args:\n",
    "        query: A flight-related question about bookings, schedules, airlines, or travel policies\n",
    "\n",
    "    Returns:\n",
    "        Detailed flight information, booking options, or travel advice\n",
    "    \"\"\"\n",
    "    try:\n",
    "        flight_memory_hooks = ShortTermMemoryHook(\n",
    "            memory_id=memory_id,\n",
    "            client=client,\n",
    "            actor_id=flight_actor_id,\n",
    "            session_id=session_id\n",
    "        )\n",
    "        \n",
    "        flight_agent = Agent(hooks=[flight_memory_hooks], system_prompt=FLIGHT_BOOKING_PROMPT)\n",
    "\n",
    "        # Call the agent and return its response\n",
    "        response = flight_agent(query)\n",
    "        return str(response)\n",
    "    except Exception as e:\n",
    "        return f\"Error in flight booking assistant: {str(e)}\"\n",
    "\n",
    "@tool\n",
    "def hotel_booking_assistant(query: str) -> str:\n",
    "    \"\"\"\n",
    "    Process and respond to hotel booking queries.\n",
    "\n",
    "    Args:\n",
    "        query: A hotel-related question about accommodations, amenities, or reservations\n",
    "\n",
    "    Returns:\n",
    "        Detailed hotel information, booking options, or accommodation advice\n",
    "    \"\"\"\n",
    "    try:\n",
    "        hotel_memory_hooks = ShortTermMemoryHook(\n",
    "            memory_id=memory_id,\n",
    "            client=client,\n",
    "            actor_id=hotel_actor_id,\n",
    "            session_id=session_id\n",
    "        )\n",
    "\n",
    "        hotel_booking_agent = Agent(hooks=[hotel_memory_hooks], system_prompt=HOTEL_BOOKING_PROMPT)\n",
    "        \n",
    "        # Call the agent and return its response\n",
    "        response = hotel_booking_agent(query)\n",
    "        return str(response)\n",
    "    except Exception as e:\n",
    "        return f\"Error in hotel booking assistant: {str(e)}\""
   ]
  },
  {
   "cell_type": "markdown",
   "id": "e7b572d1-d429-4678-a318-2ab153408e23",
   "metadata": {},
   "source": [
    "### Creating the Coordinator Agent\n",
    "\n",
    "Finally, we'll create the main travel planning agent that coordinates between these specialized tools:"
   ]
  },
  {
   "cell_type": "code",
   "execution_count": 44,
   "id": "4abe237d-36c2-42ab-ae54-4554e1e4f23a",
   "metadata": {},
   "outputs": [],
   "source": [
    "# System prompt for the coordinator agent\n",
    "TRAVEL_AGENT_SYSTEM_PROMPT = \"\"\"\n",
    "You are a comprehensive travel planning assistant that coordinates between specialized tools:\n",
    "- For flight-related queries (bookings, schedules, airlines, routes) → Use the flight_booking_assistant tool\n",
    "- For hotel-related queries (accommodations, amenities, reservations) → Use the hotel_booking_assistant tool\n",
    "- For complete travel packages → Use both tools as needed to provide comprehensive information\n",
    "- For general travel advice or simple travel questions → Answer directly\n",
    "\n",
    "Each agent will have its own memory in case the user asks about historic data.\n",
    "When handling complex travel requests, coordinate information from both tools to create a cohesive travel plan.\n",
    "Provide clear organization when presenting information from multiple sources. \\\n",
    "Ask max two questions per turn. Keep the messages short, don't overwhelm the customer.\n",
    "\"\"\""
   ]
  },
  {
   "cell_type": "code",
   "execution_count": 45,
   "id": "1f10bb9f-031e-49b6-8175-1b676cdd2576",
   "metadata": {},
   "outputs": [
    {
     "name": "stderr",
     "output_type": "stream",
     "text": [
      "2025-07-14 07:49:24 - INFO - Found credentials from IAM Role: BaseNotebookInstanceEc2InstanceRole\n"
     ]
    }
   ],
   "source": [
    "travel_agent = Agent(\n",
    "    system_prompt=TRAVEL_AGENT_SYSTEM_PROMPT,\n",
    "    tools=[flight_booking_assistant, hotel_booking_assistant]\n",
    ")"
   ]
  },
  {
   "cell_type": "markdown",
   "id": "c361c59d-e322-47ae-92a8-ee6cd994df22",
   "metadata": {},
   "source": [
    "## Testing the Multi-Agent Memory System\n",
    "\n",
    "Let's test our multi-agent system with a travel planning scenario:"
   ]
  },
  {
   "cell_type": "code",
   "execution_count": 46,
   "id": "8b13aa5d-4abc-41eb-916b-35ccf0b5ab03",
   "metadata": {},
   "outputs": [
    {
     "name": "stdout",
     "output_type": "stream",
     "text": [
      "Hello! I'd be happy to help you plan your trip from Los Angeles to Madrid from July 1 to August 2. Let's work on both your flight and hotel arrangements.\n",
      "\n",
      "First, let me help you with flight options:\n",
      "Tool #1: flight_booking_assistant\n",
      "And for hotel accommodations during your stay:\n",
      "Tool #2: hotel_booking_assistant\n",
      "I apologize for the technical difficulties with our booking tools. Let me help you directly with planning your trip:\n",
      "\n",
      "For your flight from LA to Madrid (July 1 to August 2):\n",
      "- This is a long-haul international flight (approximately 10-12 hours)\n",
      "- Airlines that typically serve this route include Iberia, American Airlines, Delta, and Air Europa\n",
      "- For best prices, I recommend booking at least 2-3 months in advance\n",
      "- Consider if you prefer direct flights or are open to connections\n",
      "\n",
      "For your accommodation in Madrid:\n",
      "- Madrid offers various accommodation options from luxury hotels to budget-friendly hostels\n",
      "- Popular areas to stay include Sol, Gran Vía, Salamanca, and Malasaña\n",
      "- A month-long stay might qualify for extended stay discounts\n",
      "\n",
      "Would you like me to provide more specific information about either your flight or hotel preferences? For example:\n",
      "1. Do you have a preferred airline or class of travel?\n",
      "2. What's your budget range for accommodations in Madrid?"
     ]
    }
   ],
   "source": [
    "response = travel_agent(\"Hello, I would like to book a trip from LA to Madrid. From July 1 to August 2.\")"
   ]
  },
  {
   "cell_type": "code",
   "execution_count": 38,
   "id": "ec209fa8-fd5a-41a8-b7d1-86a1f137331f",
   "metadata": {},
   "outputs": [
    {
     "name": "stdout",
     "output_type": "stream",
     "text": [
      "I understand you'd like to focus on flights at the moment. Let me help you find direct flight options from LA to Madrid for your July 1 to August 2 trip.\n",
      "Tool #4: flight_booking_assistant\n",
      "I apologize for the continued technical difficulties with our flight booking tool. Based on your request for direct flights, here's some general information:\n",
      "\n",
      "For direct flights from LA to Madrid (July 1 - August 2):\n",
      "\n",
      "1. Airlines offering direct routes: \n",
      "   - Iberia (Spain's flag carrier)\n",
      "   - American Airlines (codeshare with Iberia)\n",
      "\n",
      "2. Flight duration: Approximately 11-12 hours eastbound (LA to Madrid)\n",
      "\n",
      "3. Departure airport: Los Angeles International Airport (LAX)\n",
      "\n",
      "4. Arrival airport: Adolfo Suárez Madrid-Barajas Airport (MAD)\n",
      "\n",
      "5. Typical departure times: Evening departures from LAX (around 5-7 PM), arriving in Madrid the following afternoon\n",
      "\n",
      "6. Price range: For July-August (peak season), direct flights typically range from $900-1,500 for economy class\n",
      "\n",
      "Would you like me to provide any specific information about these direct flight options, such as baggage allowances or in-flight amenities? Or would you prefer to move on to discussing hotel options in Madrid's city center with a pool?"
     ]
    }
   ],
   "source": [
    "response = travel_agent(\"I would only like to focus on the flight at the moment. direct flimid-range, city center, pool, standard room\")"
   ]
  },
  {
   "cell_type": "markdown",
   "id": "ef1ed3c9-93ee-4617-81a7-b462133f4488",
   "metadata": {},
   "source": [
    "## Testing Memory Persistence\n",
    "\n",
    "To test if our memory system is working correctly, we'll create a new instance of the travel agent and see if it can access the previously stored information:"
   ]
  },
  {
   "cell_type": "code",
   "execution_count": 47,
   "id": "8007b15a-2b00-4f07-aa7d-dfa8ba7b5b10",
   "metadata": {},
   "outputs": [
    {
     "name": "stderr",
     "output_type": "stream",
     "text": [
      "2025-07-14 07:49:46 - INFO - Found credentials from IAM Role: BaseNotebookInstanceEc2InstanceRole\n"
     ]
    },
    {
     "name": "stdout",
     "output_type": "stream",
     "text": [
      "I'd be happy to check your previous flight discussions. Let me access that information for you.\n",
      "Tool #1: flight_booking_assistant\n",
      "I apologize, but I'm unable to retrieve your previous flight discussions at the moment due to a technical issue with our system. \n",
      "\n",
      "Would you mind sharing some details about the flights you're trying to recall? For example:\n",
      "- When did you discuss these flights?\n",
      "- Were they for a specific destination?\n",
      "- Were they related to an upcoming trip?"
     ]
    },
    {
     "data": {
      "text/plain": [
       "AgentResult(stop_reason='end_turn', message={'role': 'assistant', 'content': [{'text': \"I apologize, but I'm unable to retrieve your previous flight discussions at the moment due to a technical issue with our system. \\n\\nWould you mind sharing some details about the flights you're trying to recall? For example:\\n- When did you discuss these flights?\\n- Were they for a specific destination?\\n- Were they related to an upcoming trip?\"}]}, metrics=EventLoopMetrics(cycle_count=2, tool_metrics={'flight_booking_assistant': ToolMetrics(tool={'toolUseId': 'tooluse_DyTOEi7ZRhu5CkoDtucEwQ', 'name': 'flight_booking_assistant', 'input': {'query': 'Show previous flight discussions or bookings'}}, call_count=1, success_count=1, error_count=0, total_time=0.0004215240478515625)}, cycle_durations=[3.3178231716156006], traces=[<strands.telemetry.metrics.Trace object at 0x7f582b84b850>, <strands.telemetry.metrics.Trace object at 0x7f582b84bc70>], accumulated_usage={'inputTokens': 1608, 'outputTokens': 159, 'totalTokens': 1767}, accumulated_metrics={'latencyMs': 5907}), state={})"
      ]
     },
     "execution_count": 47,
     "metadata": {},
     "output_type": "execute_result"
    }
   ],
   "source": [
    "# Create a new instance of the travel agent\n",
    "new_travel_agent = Agent(\n",
    "    system_prompt=TRAVEL_AGENT_SYSTEM_PROMPT,\n",
    "    tools=[flight_booking_assistant, hotel_booking_assistant]\n",
    ")\n",
    "\n",
    "# Ask about previous conversations\n",
    "new_travel_agent(\"Can you remind me about flights talked about before?\")"
   ]
  },
  {
   "cell_type": "markdown",
   "id": "2fb6cdd1-5c11-4346-9c5a-93fb44c779ac",
   "metadata": {},
   "source": [
    "## Summary\n",
    "\n",
    "In this notebook, we've demonstrated:\n",
    "\n",
    "1. How to create a shared memory resource for multiple agents\n",
    "2. How to implement specialized agents as tools with memory access\n",
    "3. How to coordinate between multiple agents while maintaining conversation context\n",
    "4. How memory persists across different agent instances\n",
    "\n",
    "This multi-agent architecture with shared memory provides a powerful approach for building complex conversational AI systems that can handle specialized domains while maintaining a cohesive user experience."
   ]
  },
  {
   "cell_type": "markdown",
   "id": "18852f04-e06e-4787-9c4f-3d2d2ba8563b",
   "metadata": {},
   "source": [
    "## Clean up\n",
    "Let's delete the memory to clean up the resources used in this notebook."
   ]
  },
  {
   "cell_type": "code",
   "execution_count": null,
   "id": "3d4577ee-3a79-4a44-abde-86391e98e4bb",
   "metadata": {},
   "outputs": [],
   "source": [
    "client.delete_memory_and_wait(\n",
    "        memory_id = memory_id,\n",
    "        max_wait = 300,\n",
    "        poll_interval =10\n",
    ")"
   ]
  }
 ],
 "metadata": {
  "kernelspec": {
   "display_name": "conda_python3",
   "language": "python",
   "name": "conda_python3"
  },
  "language_info": {
   "codemirror_mode": {
    "name": "ipython",
    "version": 3
   },
   "file_extension": ".py",
   "mimetype": "text/x-python",
   "name": "python",
   "nbconvert_exporter": "python",
   "pygments_lexer": "ipython3",
   "version": "3.10.18"
  }
 },
 "nbformat": 4,
 "nbformat_minor": 5
}
