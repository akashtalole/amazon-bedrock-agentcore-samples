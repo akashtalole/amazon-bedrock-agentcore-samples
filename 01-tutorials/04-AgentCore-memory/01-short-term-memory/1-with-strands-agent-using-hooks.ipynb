{
 "cells": [
  {
   "cell_type": "markdown",
   "id": "overview",
   "metadata": {},
   "source": [
    "# Personal Shopping Agent with Short-Term Memory\n",
    "\n",
    "## Overview\n",
    "\n",
    "This tutorial demonstrates how to build a personal shopping agent using Strands agents with AgentCore short-term memory. The agent remembers recent conversations in the session using `get_last_k_turns` and can continue conversations seamlessly when users return.\n",
    "\n",
    "### Tutorial Details\n",
    "\n",
    "| Information         | Details                                                                          |\n",
    "|:--------------------|:---------------------------------------------------------------------------------|\n",
    "| Tutorial type       | Conversational                                                                   |\n",
    "| Agent type          | Personal                                                                         |\n",
    "| Agentic Framework   | Strands Agents                                                                   |\n",
    "| LLM model           | Anthropic Claude Sonnet 3.7                                                      |\n",
    "| Tutorial components | AgentCore Short-term Memory, AgentInitializedEvent hook                         |\n",
    "| Tutorial vertical   | E-commerce                                                                       |\n",
    "| Example complexity  | Beginner                                                                         |\n",
    "| SDK used            | AgentCore Memory SDK and Strands Agents                                          |\n",
    "\n",
    "You'll learn to:\n",
    "- Use short-term memory without strategies\n",
    "- Retrieve last K conversation turns\n",
    "- Initialize agents with conversation history\n",
    "- Handle session continuity across agent restarts\n",
    "\n",
    "## Tutorial Architecture\n",
    "\n",
    "```\n",
    "┌─────────────────┐    ┌──────────────────┐    ┌─────────────────┐\n",
    "│ User Returns    │───▶│ Personal Agent   │───▶│ Short-term      │\n",
    "│ (Same Session)  │    │                  │    │ Memory          │\n",
    "└─────────────────┘    │ ┌──────────────┐ │    │                 │\n",
    "                       │ │ Initialized  │ │◄───┤ Last K Turns    │\n",
    "                       │ │ Event Hook   │ │    │ (No Strategies) │\n",
    "                       │ └──────────────┘ │    │                 │\n",
    "                       └──────────────────┘    └─────────────────┘\n",
    "```\n",
    "\n",
    "### Key Features\n",
    "\n",
    "- **Session Continuity**: Remembers recent conversation turns\n",
    "- **No Strategies**: Uses raw conversation history without processing\n",
    "- **Agent Initialization**: Loads context when agent starts\n",
    "- **Personal Context**: Maintains shopping preferences and order history\n",
    "\n",
    "## Prerequisites\n",
    "\n",
    "- Python 3.10+\n",
    "- AWS credentials with Amazon Bedrock AgentCore Memory permissions\n",
    "- AgentCore Memory role ARN configured\n",
    "- Amazon Bedrock AgentCore SDK\n",
    "- Strands Agents framework"
   ]
  },
  {
   "cell_type": "markdown",
   "id": "setup",
   "metadata": {},
   "source": [
    "## Step-by-Step Tutorial\n",
    "\n",
    "### Step 1: Install Dependencies and Setup"
   ]
  },
  {
   "cell_type": "code",
   "execution_count": null,
   "id": "dd6f7ea1-2659-4084-b4b8-b1a3e4039734",
   "metadata": {},
   "outputs": [],
   "source": [
    "import json\n",
    "import logging\n",
    "import os\n",
    "import sys\n",
    "import time\n",
    "import uuid\n",
    "import warnings\n",
    "from datetime import datetime\n",
    "from typing import Dict, List, Any, Optional\n",
    "\n",
    "logging.basicConfig(level=logging.INFO, format=\"%(asctime)s - %(levelname)s - %(message)s\", datefmt=\"%H:%M:%S\", stream=sys.stdout)\n",
    "logger = logging.getLogger(\"memory-sample\")\n",
    "# Suppress urllib3 warnings and redirect stderr\n",
    "\n",
    "\n",
    "region = \"us-east-1\"\n",
    "current_directory = os.getcwd()\n",
    "\n",
    "# sys.path.append(os.path.join(os.path.dirname(\"GenesisSDK\"), './src'))\n",
    "sys.path.append(os.path.join(current_directory,\"BedrockAgentcoreSdkPython/src\"))\n",
    "path = os.path.join(current_directory,\"BedrockAgentcoreSdkPython/src\")\n",
    "print(True if \"bedrock_agentcore\" in os.listdir(path) else False)"
   ]
  },
  {
   "cell_type": "code",
   "execution_count": null,
   "id": "imports",
   "metadata": {},
   "outputs": [],
   "source": [
    "import logging\n",
    "import os\n",
    "from typing import Dict, List\n",
    "from datetime import datetime\n",
    "\n",
    "# Setup logging\n",
    "logging.basicConfig(level=logging.INFO, format=\"%(asctime)s - %(levelname)s - %(message)s\")\n",
    "logger = logging.getLogger(\"personal-agent\")\n",
    "\n",
    "# Import required modules\n",
    "from strands import Agent\n",
    "from strands.hooks.events import AgentInitializedEvent, MessageAddedEvent\n",
    "from strands.hooks.registry import HookProvider, HookRegistry\n",
    "from bedrock_agentcore.memory import MemoryClient\n",
    "\n",
    "# Configuration - Update with your values\n",
    "REGION = \"us-west-2\"\n",
    "ROLE_ARN = \"arn:aws:iam::484907519812:role/service-role/AmazonSageMaker-ExecutionRole-20250219T174726\"\n",
    "\n",
    "#ROLE_ARN = \"arn:aws:iam::YOUR_ACCOUNT:role/YOUR_GENESIS_ROLE\"  # Replace with your role ARN\n",
    "ACTOR_ID = \"user_123\"\n",
    "SESSION_ID = \"shopping_session_001\"  # Reuse same session for continuity"
   ]
  },
  {
   "cell_type": "markdown",
   "id": "step2",
   "metadata": {},
   "source": [
    "### Step 2: Create Memory Resource\n",
    "\n",
    "For short-term memory, we create a memory resource without any strategies. This stores raw conversation turns that can be retrieved with `get_last_k_turns`."
   ]
  },
  {
   "cell_type": "code",
   "execution_count": null,
   "id": "create_memory",
   "metadata": {},
   "outputs": [],
   "source": [
    "# Initialize Memory Client\n",
    "client = MemoryClient(region_name=REGION, environment=\"prod\")\n",
    "memory_name = \"PersonalShoppingMemory\"\n",
    "\n",
    "# Create memory resource without strategies (short-term memory)\n",
    "try:\n",
    "    memory = client.create_memory_and_wait(\n",
    "        name=memory_name,\n",
    "        strategies=[],  # No strategies for short-term memory\n",
    "        description=\"Short-term memory for personal shopping agent\",\n",
    "        event_expiry_days=7,  # Short retention period\n",
    "        memory_execution_role_arn=ROLE_ARN,\n",
    "    )\n",
    "    memory_id = memory['memoryId']\n",
    "    logger.info(f\"✅ Created memory: {memory_id}\")\n",
    "except Exception as e:\n",
    "    if \"already exists\" in str(e):\n",
    "        memories = client.list_memories()\n",
    "        memory_id = next((m['id'] for m in memories if m['id'].startswith(memory_name)), None)\n",
    "        logger.info(f\"✅ Using existing memory: {memory_id}\")\n",
    "    else:\n",
    "        logger.error(f\"Failed to initialize memory: {e}\")\n",
    "        raise e"
   ]
  },
  {
   "cell_type": "markdown",
   "id": "step3",
   "metadata": {},
   "source": [
    "### Step 3: Create Memory Hook for Agent Initialization\n",
    "\n",
    "This hook retrieves the last K conversation turns when the agent is initialized, providing context from previous sessions."
   ]
  },
  {
   "cell_type": "code",
   "execution_count": null,
   "id": "memory_hook",
   "metadata": {},
   "outputs": [],
   "source": [
    "class ShortTermMemoryHook(HookProvider):\n",
    "    def __init__(self, memory_client: MemoryClient, memory_id: str, actor_id: str, session_id: str):\n",
    "        self.memory_client = memory_client\n",
    "        self.memory_id = memory_id\n",
    "        self.actor_id = actor_id\n",
    "        self.session_id = session_id\n",
    "    \n",
    "    def on_agent_initialized(self, event: AgentInitializedEvent):\n",
    "        \"\"\"Load recent conversation history when agent starts\"\"\"\n",
    "        try:\n",
    "            # Get last 5 conversation turns\n",
    "            recent_turns = self.memory_client.get_last_k_turns(\n",
    "                memory_id=self.memory_id,\n",
    "                actor_id=self.actor_id,\n",
    "                session_id=self.session_id,\n",
    "                k=5,\n",
    "                branch_name=\"main\"\n",
    "            )\n",
    "            \n",
    "            if recent_turns:\n",
    "                # Format conversation history for context\n",
    "                context_messages = []\n",
    "                for turn in recent_turns:\n",
    "                    for message in turn:\n",
    "                        role = message['role'].lower()\n",
    "                        content = message['content']['text']\n",
    "                        context_messages.append(f\"{role.title()}: {content}\")\n",
    "                \n",
    "                context = \"\\n\".join(context_messages)\n",
    "                logger.info(f\"Context from memory: {context}\")\n",
    "                \n",
    "                # Add context to agent's system prompt\n",
    "                event.agent.system_prompt += f\"\\n\\nRecent conversation history:\\n{context}\\n\\nContinue the conversation naturally based on this context.\"\n",
    "                \n",
    "                logger.info(f\"✅ Loaded {len(recent_turns)} recent conversation turns\")\n",
    "            else:\n",
    "                logger.info(\"No previous conversation history found\")\n",
    "                \n",
    "        except Exception as e:\n",
    "            logger.error(f\"Failed to load conversation history: {e}\")\n",
    "    \n",
    "    def on_message_added(self, event):\n",
    "        \"\"\"Store conversation turns in memory\"\"\"\n",
    "        try:\n",
    "            print(f\"message added ------- {event.message}\")\n",
    "            self.memory_client.save_conversation(\n",
    "                memory_id=self.memory_id,\n",
    "                actor_id=self.actor_id,\n",
    "                session_id=self.session_id,\n",
    "                messages=[(event.message[\"content\"][0][\"text\"], event.message[\"role\"])]\n",
    "            )\n",
    "            \n",
    "        except Exception as e:\n",
    "            logger.error(f\"Failed to store message: {e}\")\n",
    "    \n",
    "    def register_hooks(self, registry: HookRegistry) -> None:\n",
    "        # Create and register memory hook\n",
    "        registry.add_callback(MessageAddedEvent, self.on_message_added)\n",
    "        registry.add_callback(AgentInitializedEvent, self.on_agent_initialized)\n",
    "    "
   ]
  },
  {
   "cell_type": "markdown",
   "id": "step4",
   "metadata": {},
   "source": [
    "### Step 4: Create Personal Shopping Agent"
   ]
  },
  {
   "cell_type": "code",
   "execution_count": null,
   "id": "create_agent",
   "metadata": {},
   "outputs": [],
   "source": [
    "def create_personal_agent():\n",
    "    \"\"\"Create a personal shopping agent with short-term memory\"\"\"\n",
    "    \n",
    "    # Create agent\n",
    "    agent = Agent(\n",
    "        name=\"PersonalShoppingAssistant\",\n",
    "        system_prompt=f\"\"\"You are a helpful personal shopping assistant. You help users with:\n",
    "        - Finding products and making purchase decisions\n",
    "        - Tracking orders and managing purchases\n",
    "        - Providing product recommendations\n",
    "        - Answering questions about warranties and returns\n",
    "        Today's date: {datetime.today().strftime('%Y-%m-%d')}\n",
    "        Be friendly, helpful, and remember details from previous conversations.\"\"\",\n",
    "        hooks=[ShortTermMemoryHook(client, memory_id, ACTOR_ID, SESSION_ID)]\n",
    "    )\n",
    "    return agent\n",
    "\n",
    "# Create the agent\n",
    "agent = create_personal_agent()\n",
    "logger.info(\"✅ Personal shopping agent created with short-term memory\")"
   ]
  },
  {
   "cell_type": "markdown",
   "id": "step5",
   "metadata": {},
   "source": [
    "### Step 5: Simulate First Shopping Session\n",
    "\n",
    "Let's simulate an initial shopping conversation that will be stored in memory."
   ]
  },
  {
   "cell_type": "code",
   "execution_count": null,
   "id": "first_session",
   "metadata": {
    "scrolled": true
   },
   "outputs": [],
   "source": [
    "# First conversation - user shares purchase information\n",
    "print(\"=== First Shopping Session ===\")\n",
    "\n",
    "response1 = agent(\"I bought a new iPhone on 1st June 2025.\")\n",
    "print(f\"User: I bought a new iPhone on 1st June 2025.\")\n",
    "print(f\"Agent: {response1}\\n\")"
   ]
  },
  {
   "cell_type": "code",
   "execution_count": null,
   "id": "bfd7485d-f812-4328-8f75-28cb748ce135",
   "metadata": {},
   "outputs": [],
   "source": [
    "response2 = agent(\"Yes, the order number for my iPhone 15 Pro is 123456\")\n",
    "print(f\"User: Yes, the order number for my iPhone 15 Pro is 123456\")\n",
    "print(f\"Agent: {response2}\\n\")"
   ]
  },
  {
   "cell_type": "code",
   "execution_count": null,
   "id": "fdb0da4f-7d51-4c70-96db-ae9ed398edd9",
   "metadata": {},
   "outputs": [],
   "source": [
    "response3 = agent(\"I also bought new headphones from Sennheiser on 20th June 2025. Order number for that is 654321. They have a 1 year warranty.\")\n",
    "print(f\"User: I also bought new headphones from Sennheiser on 20th June 2025. Order number for that is 654321. They have a 1 year warranty.\")\n",
    "print(f\"Agent: {response3}\\n\")"
   ]
  },
  {
   "cell_type": "code",
   "execution_count": null,
   "id": "82a92e38-897d-4fed-aed2-4caf007225bf",
   "metadata": {},
   "outputs": [],
   "source": [
    "response4 = agent(\"I came to the e-store searching for laptops but didn't find anything for 2 hours\")\n",
    "print(f\"User: I came to the e-store searching for laptops but didn't find anything for 2 hours\")\n",
    "print(f\"Agent: {response4}\\n\")"
   ]
  },
  {
   "cell_type": "markdown",
   "id": "step6",
   "metadata": {},
   "source": [
    "### Step 6: Verify Memory Storage\n",
    "\n",
    "Let's check what conversation turns are stored in memory."
   ]
  },
  {
   "cell_type": "code",
   "execution_count": null,
   "id": "verify_memory",
   "metadata": {},
   "outputs": [],
   "source": [
    "# Check stored conversation turns\n",
    "print(\"=== Stored Conversation Turns ===\")\n",
    "\n",
    "recent_turns = client.get_last_k_turns(\n",
    "    memory_id=memory_id,\n",
    "    actor_id=ACTOR_ID,\n",
    "    session_id=SESSION_ID,\n",
    "    k=5,\n",
    ")\n",
    "\n",
    "for i, turn in enumerate(recent_turns, 1):\n",
    "    print(f\"Turn {i}:\")\n",
    "    for message in turn:\n",
    "        role = message['role']\n",
    "        content = message['content']['text']\n",
    "        print(f\"  {role}: {content}\")\n",
    "    print()"
   ]
  },
  {
   "cell_type": "markdown",
   "id": "step7",
   "metadata": {},
   "source": [
    "### Step 7: Simulate Agent Restart with Session Continuity\n",
    "\n",
    "Now let's create a new agent instance (simulating the user returning) and see how it loads the conversation history."
   ]
  },
  {
   "cell_type": "code",
   "execution_count": null,
   "id": "agent_restart",
   "metadata": {},
   "outputs": [],
   "source": [
    "print(\"=== User Returns - New Agent Session ===\")\n",
    "print(\"Creating new agent instance (simulating user return)...\\n\")\n",
    "\n",
    "# Create a new agent instance (user returns)\n",
    "new_agent = create_personal_agent()\n",
    "\n",
    "# The AgentInitializedEvent hook will automatically load recent conversation history\n",
    "print(\"Agent initialized with conversation history loaded.\\n\")\n",
    "\n",
    "# Continue the conversation\n",
    "response = new_agent(\"Can you help me with my iPhone order?\")\n",
    "print(f\"User: Can you help me with my iPhone order?\")\n",
    "print(f\"Agent: {response}\\n\")\n",
    "\n",
    "# Ask about previous purchases\n",
    "response = new_agent(\"What was the warranty period for my headphones?\")\n",
    "print(f\"User: What was the warranty period for my headphones?\")\n",
    "print(f\"Agent: {response}\\n\")"
   ]
  },
  {
   "cell_type": "markdown",
   "id": "step8",
   "metadata": {},
   "source": [
    "### Step 8: Demonstrate Memory Limitations\n",
    "\n",
    "Short-term memory only keeps the last K turns. Let's see what happens when we exceed that limit."
   ]
  },
  {
   "cell_type": "code",
   "execution_count": null,
   "id": "memory_limits",
   "metadata": {},
   "outputs": [],
   "source": [
    "print(\"=== Testing Memory Limits ===\")\n",
    "\n",
    "# Check what's still in memory (should only show last 5 turns)\n",
    "print(\"=== Current Last 5 Turns ===\")\n",
    "recent_turns = client.get_last_k_turns(\n",
    "    memory_id=memory_id,\n",
    "    actor_id=ACTOR_ID,\n",
    "    session_id=SESSION_ID,\n",
    "    k=3\n",
    ")\n",
    "\n",
    "for i, turn in enumerate(recent_turns, 1):\n",
    "    print(f\"Turn {i}:\")\n",
    "    for message in turn:\n",
    "        role = message['role']\n",
    "        content = message['content']['text'][:50] + \"...\" if len(message['content']['text']) > 50 else message['content']['text']\n",
    "        print(f\"  {role}: {content}\")\n",
    "    print()"
   ]
  },
  {
   "cell_type": "markdown",
   "id": "cleanup",
   "metadata": {},
   "source": [
    "### Step 9: Cleanup (Optional)"
   ]
  },
  {
   "cell_type": "code",
   "execution_count": null,
   "id": "cleanup_code",
   "metadata": {},
   "outputs": [],
   "source": [
    "# Uncomment to delete the memory resource\n",
    "# client.delete_memory(memory_id)\n",
    "# logger.info(f\"✅ Deleted memory: {memory_id}\")"
   ]
  },
  {
   "cell_type": "markdown",
   "id": "summary",
   "metadata": {},
   "source": [
    "## Summary\n",
    "\n",
    "This tutorial demonstrated how to build a personal agent with short-term memory using AgentCore Memory:\n",
    "\n",
    "### Key Concepts Learned:\n",
    "\n",
    "1. **Short-term Memory**: Created memory without strategies for raw conversation storage\n",
    "2. **get_last_k_turns**: Retrieved recent conversation turns for context\n",
    "3. **AgentInitializedEvent**: Used hooks to load conversation history when agent starts\n",
    "4. **Session Continuity**: Maintained context across agent restarts using the same session_id\n",
    "5. **Memory Limitations**: Understood that short-term memory only keeps the last K turns\n",
    "\n",
    "### Use Cases for Short-term Memory:\n",
    "\n",
    "- **Personal Assistants**: Remember recent conversations without long-term storage\n",
    "- **Session-based Support**: Maintain context within a support session\n",
    "- **Temporary Context**: Keep recent context without permanent memory strategies\n",
    "- **Quick Interactions**: Fast context loading for brief conversations\n",
    "\n",
    "### Next Steps:\n",
    "\n",
    "- Explore long-term memory with strategies for persistent knowledge\n",
    "- Combine short-term and long-term memory for comprehensive context\n",
    "- Implement memory cleanup and management strategies\n",
    "- Add more sophisticated conversation handling and context management"
   ]
  }
 ],
 "metadata": {
  "kernelspec": {
   "display_name": "Python 3 (ipykernel)",
   "language": "python",
   "name": "python3"
  },
  "language_info": {
   "codemirror_mode": {
    "name": "ipython",
    "version": 3
   },
   "file_extension": ".py",
   "mimetype": "text/x-python",
   "name": "python",
   "nbconvert_exporter": "python",
   "pygments_lexer": "ipython3",
   "version": "3.12.9"
  }
 },
 "nbformat": 4,
 "nbformat_minor": 5
}
